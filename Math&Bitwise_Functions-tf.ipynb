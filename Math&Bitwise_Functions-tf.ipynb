{
 "cells": [
  {
   "cell_type": "code",
   "execution_count": 1,
   "id": "fdd34b96",
   "metadata": {},
   "outputs": [],
   "source": [
    "import tensorflow as tf"
   ]
  },
  {
   "cell_type": "code",
   "execution_count": 9,
   "id": "245ea042",
   "metadata": {},
   "outputs": [],
   "source": [
    "t1=tf.constant([1,2,3])\n",
    "t2=tf.constant([3,4,5])\n",
    "t3=tf.constant([6,7,8])"
   ]
  },
  {
   "cell_type": "markdown",
   "id": "b22f0893",
   "metadata": {},
   "source": [
    "# tf.math.add_n()"
   ]
  },
  {
   "cell_type": "raw",
   "id": "910ffdfe",
   "metadata": {},
   "source": [
    "Adds all input tensors element-wise."
   ]
  },
  {
   "cell_type": "code",
   "execution_count": 10,
   "id": "5e5897ab",
   "metadata": {},
   "outputs": [
    {
     "data": {
      "text/plain": [
       "array([10, 13, 16])"
      ]
     },
     "execution_count": 10,
     "metadata": {},
     "output_type": "execute_result"
    }
   ],
   "source": [
    "ad=tf.math.add_n([t1,t2,t3])\n",
    "ad.numpy()"
   ]
  },
  {
   "cell_type": "markdown",
   "id": "5d825225",
   "metadata": {},
   "source": [
    "# tf.math.accumulate_n() - same as addition"
   ]
  },
  {
   "cell_type": "raw",
   "id": "304eb1ba",
   "metadata": {},
   "source": [
    "Accumulates the input tensors element-wise."
   ]
  },
  {
   "cell_type": "code",
   "execution_count": 13,
   "id": "d10b48c0",
   "metadata": {},
   "outputs": [
    {
     "data": {
      "text/plain": [
       "array([10, 13, 16])"
      ]
     },
     "execution_count": 13,
     "metadata": {},
     "output_type": "execute_result"
    }
   ],
   "source": [
    "ac=tf.math.accumulate_n([t1,t2,t3])\n",
    "ac.numpy()"
   ]
  },
  {
   "cell_type": "markdown",
   "id": "13bfcdba",
   "metadata": {},
   "source": [
    "# tf.math.subtract()"
   ]
  },
  {
   "cell_type": "raw",
   "id": "244abe09",
   "metadata": {},
   "source": [
    "Subtracts elements of the second tensor from the first tensor element-wise."
   ]
  },
  {
   "cell_type": "code",
   "execution_count": 12,
   "id": "b4457b39",
   "metadata": {},
   "outputs": [
    {
     "data": {
      "text/plain": [
       "<tf.Tensor: shape=(3,), dtype=int32, numpy=array([-2, -2, -2])>"
      ]
     },
     "execution_count": 12,
     "metadata": {},
     "output_type": "execute_result"
    }
   ],
   "source": [
    "sub=tf.math.subtract(t1,t2)\n",
    "sub"
   ]
  },
  {
   "cell_type": "markdown",
   "id": "a3d7f157",
   "metadata": {},
   "source": [
    "# tf.math.multiply()"
   ]
  },
  {
   "cell_type": "raw",
   "id": "44e260c2",
   "metadata": {},
   "source": [
    "Multiplies elements of the input tensors element-wise."
   ]
  },
  {
   "cell_type": "code",
   "execution_count": 14,
   "id": "208490fe",
   "metadata": {},
   "outputs": [
    {
     "data": {
      "text/plain": [
       "array([ 3,  8, 15])"
      ]
     },
     "execution_count": 14,
     "metadata": {},
     "output_type": "execute_result"
    }
   ],
   "source": [
    "mul=tf.math.multiply(t1,t2)\n",
    "mul.numpy()"
   ]
  },
  {
   "cell_type": "markdown",
   "id": "6b80be33",
   "metadata": {},
   "source": [
    "# tf.math.scalar_mul()"
   ]
  },
  {
   "cell_type": "raw",
   "id": "f6609a70",
   "metadata": {},
   "source": [
    "Multiplies a scalar with a tensor."
   ]
  },
  {
   "cell_type": "code",
   "execution_count": 22,
   "id": "2d4f5294",
   "metadata": {},
   "outputs": [
    {
     "data": {
      "text/plain": [
       "array([3, 6, 9])"
      ]
     },
     "execution_count": 22,
     "metadata": {},
     "output_type": "execute_result"
    }
   ],
   "source": [
    "a=tf.constant([1,2,3])\n",
    "alpha=3\n",
    "res=tf.math.scalar_mul(alpha,a)\n",
    "res.numpy()"
   ]
  },
  {
   "cell_type": "markdown",
   "id": "9e5541d3",
   "metadata": {},
   "source": [
    "# tf.math.top_k()"
   ]
  },
  {
   "cell_type": "raw",
   "id": "690ff4e9",
   "metadata": {},
   "source": [
    "Finds values and indices of the k largest entries for the last dimension."
   ]
  },
  {
   "cell_type": "code",
   "execution_count": 28,
   "id": "1866181d",
   "metadata": {},
   "outputs": [
    {
     "name": "stdout",
     "output_type": "stream",
     "text": [
      "index - [4 3]: values - [5 4]\n"
     ]
    }
   ],
   "source": [
    "t=tf.constant([1,2,3,4,5])\n",
    "values,indices=tf.math.top_k(t,k=2)\n",
    "print(f\"index - {indices}: values - {values}\")"
   ]
  },
  {
   "cell_type": "markdown",
   "id": "668bab59",
   "metadata": {},
   "source": [
    "# tf.math.reduce_max()"
   ]
  },
  {
   "cell_type": "raw",
   "id": "8b45f50d",
   "metadata": {},
   "source": [
    "Computes the maximum of elements across dimensions of a tensor."
   ]
  },
  {
   "cell_type": "code",
   "execution_count": 29,
   "id": "82e17433",
   "metadata": {},
   "outputs": [
    {
     "name": "stdout",
     "output_type": "stream",
     "text": [
      "tf.Tensor(4, shape=(), dtype=int32)\n"
     ]
    }
   ],
   "source": [
    "t=tf.constant([[1,2,3],[2,3,4]])\n",
    "ans=tf.math.reduce_max(t)\n",
    "print(ans)"
   ]
  },
  {
   "cell_type": "markdown",
   "id": "13f9211a",
   "metadata": {},
   "source": [
    "# tf.math.argmax()"
   ]
  },
  {
   "cell_type": "raw",
   "id": "f174b799",
   "metadata": {},
   "source": [
    "Returns the index with the largest value across axes of a tensor."
   ]
  },
  {
   "cell_type": "code",
   "execution_count": 32,
   "id": "665875f0",
   "metadata": {},
   "outputs": [
    {
     "name": "stdout",
     "output_type": "stream",
     "text": [
      "index of max element : 3\n"
     ]
    }
   ],
   "source": [
    "t = tf.constant([1, 3, 2, 4])\n",
    "\n",
    "result = tf.math.argmax(t)\n",
    "print(f\"index of max element : {result.numpy()}\")"
   ]
  },
  {
   "cell_type": "markdown",
   "id": "56b4ffdb",
   "metadata": {},
   "source": [
    "# tf.math.squared_difference()"
   ]
  },
  {
   "cell_type": "raw",
   "id": "0169ad9b",
   "metadata": {},
   "source": [
    "Returns the squared difference of the input tensors element-wise."
   ]
  },
  {
   "cell_type": "code",
   "execution_count": 35,
   "id": "61c73097",
   "metadata": {},
   "outputs": [
    {
     "data": {
      "text/plain": [
       "array([4, 4])"
      ]
     },
     "execution_count": 35,
     "metadata": {},
     "output_type": "execute_result"
    }
   ],
   "source": [
    "t1=tf.constant([1,2])\n",
    "t2=tf.constant([3,4])\n",
    "res=tf.math.squared_difference(t1,t2)\n",
    "res.numpy()"
   ]
  },
  {
   "cell_type": "markdown",
   "id": "7bc0a4ae",
   "metadata": {},
   "source": [
    "# tf.math.rsqrt()"
   ]
  },
  {
   "cell_type": "raw",
   "id": "818fbeac",
   "metadata": {},
   "source": [
    "Computes reciprocal of square root of x element-wise."
   ]
  },
  {
   "cell_type": "code",
   "execution_count": 37,
   "id": "3eceed28",
   "metadata": {},
   "outputs": [
    {
     "data": {
      "text/plain": [
       "array([1.        , 0.5       , 0.33333334], dtype=float32)"
      ]
     },
     "execution_count": 37,
     "metadata": {},
     "output_type": "execute_result"
    }
   ],
   "source": [
    "v = tf.constant([1.0, 4.0, 9.0])\n",
    "ans=tf.math.rsqrt(v)\n",
    "ans.numpy()"
   ]
  },
  {
   "cell_type": "markdown",
   "id": "a646e4b8",
   "metadata": {},
   "source": [
    "# tf.math.floormod()"
   ]
  },
  {
   "cell_type": "raw",
   "id": "4ee46d16",
   "metadata": {},
   "source": [
    "Returns element-wise remainder of division."
   ]
  },
  {
   "cell_type": "code",
   "execution_count": 38,
   "id": "6622329f",
   "metadata": {},
   "outputs": [
    {
     "data": {
      "text/plain": [
       "array([1, 0, 1])"
      ]
     },
     "execution_count": 38,
     "metadata": {},
     "output_type": "execute_result"
    }
   ],
   "source": [
    "t1 = tf.constant([1, 2, 3])\n",
    "t2 = tf.constant([2, 2, 2])\n",
    "v=tf.math.floormod(t1,t2)\n",
    "v.numpy()"
   ]
  },
  {
   "cell_type": "markdown",
   "id": "99cbf474",
   "metadata": {},
   "source": [
    "# tf.math.softplus()"
   ]
  },
  {
   "cell_type": "raw",
   "id": "1bf7bb06",
   "metadata": {},
   "source": [
    "Formula : log(exp(features) + 1)"
   ]
  },
  {
   "cell_type": "code",
   "execution_count": 49,
   "id": "3ba41711",
   "metadata": {},
   "outputs": [],
   "source": [
    "v=tf.constant([[-1.0, 0.0, 1.0]])"
   ]
  },
  {
   "cell_type": "code",
   "execution_count": 51,
   "id": "48783ee6",
   "metadata": {
    "scrolled": true
   },
   "outputs": [
    {
     "data": {
      "text/plain": [
       "<tf.Tensor: shape=(1, 3), dtype=float32, numpy=array([[0.3132617, 0.6931472, 1.3132616]], dtype=float32)>"
      ]
     },
     "execution_count": 51,
     "metadata": {},
     "output_type": "execute_result"
    }
   ],
   "source": [
    "tf.math.softplus(v)"
   ]
  },
  {
   "cell_type": "markdown",
   "id": "b8e36356",
   "metadata": {},
   "source": [
    "# tf.math.l2_normalize()"
   ]
  },
  {
   "cell_type": "code",
   "execution_count": 54,
   "id": "f6234786",
   "metadata": {},
   "outputs": [],
   "source": [
    "tensor = tf.constant([1.0, 2.0, 3.0])"
   ]
  },
  {
   "cell_type": "code",
   "execution_count": 55,
   "id": "5ebcb938",
   "metadata": {},
   "outputs": [],
   "source": [
    "res=tf.math.l2_normalize(tensor)"
   ]
  },
  {
   "cell_type": "code",
   "execution_count": 56,
   "id": "7b6ac835",
   "metadata": {},
   "outputs": [
    {
     "data": {
      "text/plain": [
       "array([0.26726124, 0.5345225 , 0.8017837 ], dtype=float32)"
      ]
     },
     "execution_count": 56,
     "metadata": {},
     "output_type": "execute_result"
    }
   ],
   "source": [
    "res.numpy()"
   ]
  },
  {
   "cell_type": "markdown",
   "id": "8a226eda",
   "metadata": {},
   "source": [
    "# tf.math.segment_max()"
   ]
  },
  {
   "cell_type": "raw",
   "id": "0fd7fd44",
   "metadata": {},
   "source": [
    "Computes the maximum along segments."
   ]
  },
  {
   "cell_type": "code",
   "execution_count": 59,
   "id": "384881e1",
   "metadata": {},
   "outputs": [],
   "source": [
    "a=tf.constant([1,2,3,4,5,6])\n",
    "segment_ids=tf.constant([0,0,1,1,2,2])"
   ]
  },
  {
   "cell_type": "code",
   "execution_count": 60,
   "id": "91ac88e7",
   "metadata": {},
   "outputs": [
    {
     "data": {
      "text/plain": [
       "<tf.Tensor: shape=(3,), dtype=int32, numpy=array([2, 4, 6])>"
      ]
     },
     "execution_count": 60,
     "metadata": {},
     "output_type": "execute_result"
    }
   ],
   "source": [
    "s_max=tf.math.segment_max(a,segment_ids)\n",
    "s_max"
   ]
  },
  {
   "cell_type": "markdown",
   "id": "784ef1c8",
   "metadata": {},
   "source": [
    "# tf.math.unsorted_segment_mean()"
   ]
  },
  {
   "cell_type": "raw",
   "id": "29229d50",
   "metadata": {},
   "source": [
    "Computes the mean along segments without sorting."
   ]
  },
  {
   "cell_type": "code",
   "execution_count": null,
   "id": "a3fcbc86",
   "metadata": {},
   "outputs": [],
   "source": [
    "a=tf.constant([1,2,3,4,5,6])\n",
    "segment_ids=tf.constant([0,0,1,1,2,2])"
   ]
  },
  {
   "cell_type": "markdown",
   "id": "af70ab7d",
   "metadata": {},
   "source": [
    "# Trignometry"
   ]
  },
  {
   "cell_type": "code",
   "execution_count": 42,
   "id": "d9bd7316",
   "metadata": {},
   "outputs": [
    {
     "name": "stdout",
     "output_type": "stream",
     "text": [
      "Sine: [ 0.84147096  0.47942555 -0.47942555]\n",
      "Hyperbolic Sine: [ 1.1752012  0.5210953 -0.5210953]\n",
      "Cosine: [0.5403023  0.87758255 0.87758255]\n",
      "Hyperbolic Cosine: [1.5430807 1.127626  1.127626 ]\n",
      "Tangent: [ 1.5574077  0.5463025 -0.5463025]\n",
      "Hyperbolic Tangent: [ 0.7615942   0.46211717 -0.46211717]\n",
      "Arccosine: [0.        1.0471976 2.0943952]\n",
      "Inverse Hyperbolic Cosine: [ 0. nan nan]\n",
      "Arctangent: [ 0.7853982  0.4636476 -0.4636476]\n",
      "Inverse Hyperbolic Tangent: [        inf  0.54930615 -0.54930615]\n"
     ]
    }
   ],
   "source": [
    "tensor = tf.constant([1.0, 0.5, -0.5])\n",
    "\n",
    "# Sine\n",
    "result_sin = tf.math.sin(tensor)\n",
    "print(\"Sine:\", result_sin.numpy())\n",
    "\n",
    "# Hyperbolic Sine\n",
    "result_sinh = tf.math.sinh(tensor)\n",
    "print(\"Hyperbolic Sine:\", result_sinh.numpy())\n",
    "\n",
    "# Cosine\n",
    "result_cos = tf.math.cos(tensor)\n",
    "print(\"Cosine:\", result_cos.numpy())\n",
    "\n",
    "# Hyperbolic Cosine\n",
    "result_cosh = tf.math.cosh(tensor)\n",
    "print(\"Hyperbolic Cosine:\", result_cosh.numpy())\n",
    "\n",
    "# Tangent\n",
    "result_tan = tf.math.tan(tensor)\n",
    "print(\"Tangent:\", result_tan.numpy())\n",
    "\n",
    "# Hyperbolic Tangent\n",
    "result_tanh = tf.math.tanh(tensor)\n",
    "print(\"Hyperbolic Tangent:\", result_tanh.numpy())\n",
    "\n",
    "# Inverse Trigonometric Functions\n",
    "result_acos = tf.math.acos(tensor)\n",
    "print(\"Arccosine:\", result_acos.numpy())\n",
    "\n",
    "result_acosh = tf.math.acosh(tensor)\n",
    "print(\"Inverse Hyperbolic Cosine:\", result_acosh.numpy())\n",
    "\n",
    "result_atan = tf.math.atan(tensor)\n",
    "print(\"Arctangent:\", result_atan.numpy())\n",
    "\n",
    "result_atanh = tf.math.atanh(tensor)\n",
    "print(\"Inverse Hyperbolic Tangent:\", result_atanh.numpy())\n"
   ]
  },
  {
   "cell_type": "markdown",
   "id": "0e58fbf1",
   "metadata": {},
   "source": [
    "# Comparision operators"
   ]
  },
  {
   "cell_type": "code",
   "execution_count": 46,
   "id": "120a8080",
   "metadata": {},
   "outputs": [
    {
     "name": "stdout",
     "output_type": "stream",
     "text": [
      "Less: [ True False False]\n",
      "Less Equal: [ True  True False]\n",
      "Greater: [False False  True]\n",
      "Greater equal: [False  True  True]\n",
      "Equal: [False  True False]\n",
      "Not Equal: [ True False  True]\n"
     ]
    }
   ],
   "source": [
    "# Define two tensors\n",
    "tensor1 = tf.constant([1, 2, 3])\n",
    "tensor2 = tf.constant([2, 2, 2])\n",
    "\n",
    "# Perform element-wise comparisons\n",
    "less_result = tf.math.less(tensor1, tensor2)\n",
    "less_equal_result = tf.math.less_equal(tensor1, tensor2)\n",
    "greater_result = tf.math.greater(tensor1, tensor2)\n",
    "greater_equal_result=tf.math.greater_equal(tensor1,tensor2)\n",
    "equal_result = tf.math.equal(tensor1, tensor2)\n",
    "not_equal_result = tf.math.not_equal(tensor1, tensor2)\n",
    "\n",
    "print(\"Less:\", less_result.numpy())              \n",
    "print(\"Less Equal:\", less_equal_result.numpy())  \n",
    "print(\"Greater:\", greater_result.numpy())  \n",
    "print(\"Greater equal:\",greater_equal_result.numpy())\n",
    "print(\"Equal:\", equal_result.numpy())            \n",
    "print(\"Not Equal:\", not_equal_result.numpy())   \n"
   ]
  },
  {
   "cell_type": "markdown",
   "id": "5f88c5e9",
   "metadata": {},
   "source": [
    "# Bitwise operators"
   ]
  },
  {
   "cell_type": "code",
   "execution_count": 48,
   "id": "ba9c177f",
   "metadata": {},
   "outputs": [
    {
     "name": "stdout",
     "output_type": "stream",
     "text": [
      "Bitwise AND: [1 4 2]\n",
      "Bitwise OR: [7 7 7]\n",
      "Bitwise XOR: [6 3 5]\n",
      "Bitwise NOT (tensor1): [-6 -7 -8]\n",
      "Left Shift (tensor1): [20 24 28]\n",
      "Right Shift (tensor1): [2 3 3]\n"
     ]
    }
   ],
   "source": [
    "# Define two tensors\n",
    "tensor1 = tf.constant([5, 6, 7])  # Binary: 101, 110, 111\n",
    "tensor2 = tf.constant([3, 5, 2])  # Binary: 011, 101, 010\n",
    "\n",
    "# Bitwise AND\n",
    "result_and = tf.bitwise.bitwise_and(tensor1, tensor2)\n",
    "print(\"Bitwise AND:\", result_and.numpy())  # Output: [1 4 2] (Binary: 001, 100, 010)\n",
    "\n",
    "# Bitwise OR\n",
    "result_or = tf.bitwise.bitwise_or(tensor1, tensor2)\n",
    "print(\"Bitwise OR:\", result_or.numpy())    # Output: [7 7 7] (Binary: 111, 111, 111)\n",
    "\n",
    "# Bitwise XOR\n",
    "result_xor = tf.bitwise.bitwise_xor(tensor1, tensor2)\n",
    "print(\"Bitwise XOR:\", result_xor.numpy())  # Output: [6 3 5] (Binary: 110, 011, 101)\n",
    "\n",
    "# Bitwise NOT\n",
    "result_not = tf.bitwise.invert(tensor1)\n",
    "print(\"Bitwise NOT (tensor1):\", result_not.numpy())  # Output: [-6 -7 -8]\n",
    "\n",
    "# Left Shift\n",
    "result_left_shift = tf.bitwise.left_shift(tensor1, 2)  # Shifting left by 2 bits\n",
    "print(\"Left Shift (tensor1):\", result_left_shift.numpy())    # Output: [20 24 28] (Binary: 10100, 11000, 11100)\n",
    "\n",
    "# Right Shift\n",
    "result_right_shift = tf.bitwise.right_shift(tensor1, 1)  # Shifting right by 1 bit\n",
    "print(\"Right Shift (tensor1):\", result_right_shift.numpy())    # Output: [2 3 3] (Binary: 10, 11, 11)\n"
   ]
  },
  {
   "cell_type": "code",
   "execution_count": null,
   "id": "596fbfb2",
   "metadata": {},
   "outputs": [],
   "source": []
  }
 ],
 "metadata": {
  "kernelspec": {
   "display_name": "Python 3 (ipykernel)",
   "language": "python",
   "name": "python3"
  },
  "language_info": {
   "codemirror_mode": {
    "name": "ipython",
    "version": 3
   },
   "file_extension": ".py",
   "mimetype": "text/x-python",
   "name": "python",
   "nbconvert_exporter": "python",
   "pygments_lexer": "ipython3",
   "version": "3.10.9"
  }
 },
 "nbformat": 4,
 "nbformat_minor": 5
}
