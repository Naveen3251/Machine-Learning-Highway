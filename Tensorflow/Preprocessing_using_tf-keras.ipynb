{
 "cells": [
  {
   "cell_type": "code",
   "execution_count": 1,
   "id": "ae950f72",
   "metadata": {},
   "outputs": [],
   "source": [
    "import tensorflow as tf"
   ]
  },
  {
   "cell_type": "markdown",
   "id": "26da9a57",
   "metadata": {},
   "source": [
    "# Numerical Features Preprocessing"
   ]
  },
  {
   "cell_type": "markdown",
   "id": "3ce1f470",
   "metadata": {},
   "source": [
    "### 1] tf.keras.layers.Normalization"
   ]
  },
  {
   "cell_type": "markdown",
   "id": "6538d50c",
   "metadata": {},
   "source": [
    "Normalizes the input data by subtracting the mean and dividing by the standard deviation."
   ]
  },
  {
   "cell_type": "markdown",
   "id": "036e25d3",
   "metadata": {},
   "source": [
    "$\\text{Normalized Value} = \\frac{X - \\mu}{\\sigma}\\$\n"
   ]
  },
  {
   "cell_type": "code",
   "execution_count": 18,
   "id": "9479d5f1",
   "metadata": {},
   "outputs": [],
   "source": [
    "data=tf.constant([[90.0,75.0],[3.0,4.0],[50.0,25.0]],dtype=tf.float32)"
   ]
  },
  {
   "cell_type": "code",
   "execution_count": 19,
   "id": "222143a8",
   "metadata": {},
   "outputs": [],
   "source": [
    "normalization_layer=tf.keras.layers.Normalization()"
   ]
  },
  {
   "cell_type": "code",
   "execution_count": 20,
   "id": "ae0d0c2b",
   "metadata": {},
   "outputs": [],
   "source": [
    "# Adapt the layer to the data -- crucial step\n",
    "'''\n",
    "1] When you create a Normalization layer, it needs to know the mean and variance of your data \n",
    "    in order to standardize it (subtract the mean and divide by the standard deviation). \n",
    "2] The adapt method computes these statistics.\n",
    "'''\n",
    "normalization_layer.adapt(data)"
   ]
  },
  {
   "cell_type": "code",
   "execution_count": 21,
   "id": "c7ec5723",
   "metadata": {},
   "outputs": [],
   "source": [
    "normalized_data=normalization_layer(data)"
   ]
  },
  {
   "cell_type": "code",
   "execution_count": 22,
   "id": "df786b8b",
   "metadata": {},
   "outputs": [
    {
     "data": {
      "text/plain": [
       "array([[ 1.1906134 ,  1.3543456 ],\n",
       "       [-1.2562379 , -1.0297505 ],\n",
       "       [ 0.06562433, -0.32459527]], dtype=float32)"
      ]
     },
     "execution_count": 22,
     "metadata": {},
     "output_type": "execute_result"
    }
   ],
   "source": [
    "normalized_data.numpy()"
   ]
  },
  {
   "cell_type": "markdown",
   "id": "01919fd4",
   "metadata": {},
   "source": [
    "### 2] tf.keras.layers.Discretization"
   ]
  },
  {
   "cell_type": "raw",
   "id": "9277a7b6",
   "metadata": {},
   "source": [
    "Discretizes continuous input data into bins"
   ]
  },
  {
   "cell_type": "markdown",
   "id": "6954b188",
   "metadata": {},
   "source": [
    "For the given input X, if the bins are defined by b1,b2,....,bn the discretized value D is :"
   ]
  },
  {
   "cell_type": "markdown",
   "id": "4f9d9095",
   "metadata": {},
   "source": [
    "D = \n",
    "\\begin{cases} \n",
    "0 & \\text{if } X < b_1 \\\\\n",
    "1 & \\text{if } b_1 \\leq X < b_2 \\\\\n",
    "\\vdots & \\\\\n",
    "n & \\text{if } X \\geq b_{n-1}\n",
    "\\end{cases}\n",
    "\n",
    "\n"
   ]
  },
  {
   "cell_type": "code",
   "execution_count": 23,
   "id": "84de14c4",
   "metadata": {},
   "outputs": [],
   "source": [
    "data = tf.constant([[0.1, 0.3], [0.2, 0.4], [0.3, 0.6], [0.5, 0.9], [0.8, 0.7]], dtype=tf.float32)"
   ]
  },
  {
   "cell_type": "code",
   "execution_count": 30,
   "id": "486eff6c",
   "metadata": {},
   "outputs": [],
   "source": [
    "# This will create 3 bins: [-inf, 0.2), [0.2, 0.5), [0.5, inf)\n",
    "discretized=tf.keras.layers.Discretization(bin_boundaries=[0.2,0.5])"
   ]
  },
  {
   "cell_type": "code",
   "execution_count": 31,
   "id": "7df8c89e",
   "metadata": {},
   "outputs": [],
   "source": [
    "discrete_values=discretized(data)"
   ]
  },
  {
   "cell_type": "code",
   "execution_count": 32,
   "id": "ca9eb60a",
   "metadata": {},
   "outputs": [
    {
     "data": {
      "text/plain": [
       "array([[0, 1],\n",
       "       [1, 1],\n",
       "       [1, 2],\n",
       "       [2, 2],\n",
       "       [2, 2]], dtype=int64)"
      ]
     },
     "execution_count": 32,
     "metadata": {},
     "output_type": "execute_result"
    }
   ],
   "source": [
    "discrete_values.numpy()"
   ]
  },
  {
   "cell_type": "markdown",
   "id": "7bc6470e",
   "metadata": {},
   "source": [
    "# Categorical Features Preprocessing"
   ]
  },
  {
   "cell_type": "markdown",
   "id": "efbee781",
   "metadata": {},
   "source": [
    "### 1] tf.keras.layers.CategoryEncoding"
   ]
  },
  {
   "cell_type": "raw",
   "id": "19d4d33a",
   "metadata": {},
   "source": [
    " Transforms integer into a one-hot encoded format."
   ]
  },
  {
   "cell_type": "markdown",
   "id": "c3490ccb",
   "metadata": {},
   "source": [
    "For a categorical variable X with n categories, the one-hot encoded vector O is :"
   ]
  },
  {
   "cell_type": "markdown",
   "id": "dfcb90d5",
   "metadata": {},
   "source": [
    "O_i = \\begin{cases} \n",
    "1 & \\text{if } X = \\text{category}_i \\\\\n",
    "0 & \\text{otherwise}\n",
    "\\end{cases}\n"
   ]
  },
  {
   "cell_type": "code",
   "execution_count": 34,
   "id": "f172f271",
   "metadata": {},
   "outputs": [],
   "source": [
    "integer_data=tf.constant([0,1,2,1,2,0],dtype=tf.int32)"
   ]
  },
  {
   "cell_type": "code",
   "execution_count": 35,
   "id": "900357dc",
   "metadata": {},
   "outputs": [],
   "source": [
    "#num_tokens: 3 (since your data has values 0, 1, and 2)\n",
    "onehot_int=tf.keras.layers.CategoryEncoding(num_tokens=3,output_mode='one_hot')"
   ]
  },
  {
   "cell_type": "code",
   "execution_count": 36,
   "id": "b47f4ba8",
   "metadata": {},
   "outputs": [],
   "source": [
    "encoded_data=onehot_int(integer_data)"
   ]
  },
  {
   "cell_type": "code",
   "execution_count": 37,
   "id": "905cb2c4",
   "metadata": {},
   "outputs": [
    {
     "data": {
      "text/plain": [
       "array([[1., 0., 0.],\n",
       "       [0., 1., 0.],\n",
       "       [0., 0., 1.],\n",
       "       [0., 1., 0.],\n",
       "       [0., 0., 1.],\n",
       "       [1., 0., 0.]], dtype=float32)"
      ]
     },
     "execution_count": 37,
     "metadata": {},
     "output_type": "execute_result"
    }
   ],
   "source": [
    "encoded_data.numpy()"
   ]
  },
  {
   "cell_type": "markdown",
   "id": "43afd236",
   "metadata": {},
   "source": [
    "### 2] tf.keras.layers.Hashing"
   ]
  },
  {
   "cell_type": "raw",
   "id": "0fa35d01",
   "metadata": {},
   "source": [
    "Hashes categorical data into a fixed number of bins."
   ]
  },
  {
   "cell_type": "markdown",
   "id": "8e7f72a2",
   "metadata": {},
   "source": [
    "For a given input X, the Hashed value H is:"
   ]
  },
  {
   "cell_type": "markdown",
   "id": "09e8b363",
   "metadata": {},
   "source": [
    "H = $\\text{hash}(X) \\mod k\\$"
   ]
  },
  {
   "cell_type": "code",
   "execution_count": 54,
   "id": "3f152ced",
   "metadata": {},
   "outputs": [],
   "source": [
    "'''\n",
    "The higher the num_bins, the more unique hash values can be accommodated, \n",
    "potentially reducing collisions (different inputs hashing to the same bin).\n",
    "'''\n",
    "data = tf.constant([\"apple\", \"banana\", \"cherry\", \"apple\"], dtype=tf.string)"
   ]
  },
  {
   "cell_type": "code",
   "execution_count": 64,
   "id": "0749e634",
   "metadata": {},
   "outputs": [],
   "source": [
    "hashing=tf.keras.layers.Hashing(num_bins=4)"
   ]
  },
  {
   "cell_type": "code",
   "execution_count": 65,
   "id": "631b0dbf",
   "metadata": {},
   "outputs": [],
   "source": [
    "hashed_data=hashing(data)"
   ]
  },
  {
   "cell_type": "code",
   "execution_count": 66,
   "id": "1cfabc7f",
   "metadata": {},
   "outputs": [
    {
     "data": {
      "text/plain": [
       "array([1, 0, 3, 1], dtype=int64)"
      ]
     },
     "execution_count": 66,
     "metadata": {},
     "output_type": "execute_result"
    }
   ],
   "source": [
    "hashed_data.numpy()"
   ]
  },
  {
   "cell_type": "markdown",
   "id": "a900c4de",
   "metadata": {},
   "source": [
    "### 3] tf.keras.layers.StringLookup"
   ]
  },
  {
   "cell_type": "raw",
   "id": "396ff85f",
   "metadata": {},
   "source": [
    "Maps string categorical values to integer indices."
   ]
  },
  {
   "cell_type": "code",
   "execution_count": 68,
   "id": "611fa325",
   "metadata": {},
   "outputs": [],
   "source": [
    "data = tf.constant([\"apple\", \"banana\", \"cherry\", \"banana\"], dtype=tf.string)"
   ]
  },
  {
   "cell_type": "code",
   "execution_count": 69,
   "id": "30ac7b60",
   "metadata": {},
   "outputs": [],
   "source": [
    "look=tf.keras.layers.StringLookup()"
   ]
  },
  {
   "cell_type": "code",
   "execution_count": 70,
   "id": "b5fc1532",
   "metadata": {},
   "outputs": [],
   "source": [
    "look.adapt(data)"
   ]
  },
  {
   "cell_type": "code",
   "execution_count": 71,
   "id": "e35062dd",
   "metadata": {},
   "outputs": [],
   "source": [
    "encode=look(data)"
   ]
  },
  {
   "cell_type": "code",
   "execution_count": 72,
   "id": "07036f42",
   "metadata": {},
   "outputs": [
    {
     "data": {
      "text/plain": [
       "array([3, 1, 2, 1], dtype=int64)"
      ]
     },
     "execution_count": 72,
     "metadata": {},
     "output_type": "execute_result"
    }
   ],
   "source": [
    "encode.numpy()"
   ]
  },
  {
   "cell_type": "markdown",
   "id": "d2207721",
   "metadata": {},
   "source": [
    "### 4] tf.keras.layers.IntegerLookup"
   ]
  },
  {
   "cell_type": "raw",
   "id": "d5da3b38",
   "metadata": {},
   "source": [
    "Used for integer categorical values.\n",
    "Maps each unique integer to a unique integer index."
   ]
  },
  {
   "cell_type": "code",
   "execution_count": 73,
   "id": "3c9dcf7c",
   "metadata": {},
   "outputs": [],
   "source": [
    "data = tf.constant([1,2,5,6,1,6], dtype=tf.int32)"
   ]
  },
  {
   "cell_type": "code",
   "execution_count": 74,
   "id": "ddb3fd47",
   "metadata": {},
   "outputs": [],
   "source": [
    "int_look=tf.keras.layers.IntegerLookup()"
   ]
  },
  {
   "cell_type": "code",
   "execution_count": 75,
   "id": "944d0605",
   "metadata": {},
   "outputs": [],
   "source": [
    "int_look.adapt(data)"
   ]
  },
  {
   "cell_type": "code",
   "execution_count": null,
   "id": "d7910173",
   "metadata": {},
   "outputs": [],
   "source": [
    "encode"
   ]
  }
 ],
 "metadata": {
  "kernelspec": {
   "display_name": "Python 3 (ipykernel)",
   "language": "python",
   "name": "python3"
  },
  "language_info": {
   "codemirror_mode": {
    "name": "ipython",
    "version": 3
   },
   "file_extension": ".py",
   "mimetype": "text/x-python",
   "name": "python",
   "nbconvert_exporter": "python",
   "pygments_lexer": "ipython3",
   "version": "3.10.9"
  }
 },
 "nbformat": 4,
 "nbformat_minor": 5
}
