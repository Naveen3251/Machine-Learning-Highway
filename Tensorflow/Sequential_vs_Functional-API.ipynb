{
 "cells": [
  {
   "cell_type": "code",
   "execution_count": 1,
   "id": "afaedab8",
   "metadata": {},
   "outputs": [],
   "source": [
    "import tensorflow as tf"
   ]
  },
  {
   "cell_type": "raw",
   "id": "3f82aa1f",
   "metadata": {},
   "source": [
    "In TensorFlow, particularly in Keras, \n",
    "    There are two primary ways to build models: \n",
    "           Sequential API and \n",
    "           Functional API. "
   ]
  },
  {
   "cell_type": "markdown",
   "id": "e863ef8c",
   "metadata": {},
   "source": [
    "## A] Sequential API"
   ]
  },
  {
   "cell_type": "markdown",
   "id": "11530514",
   "metadata": {},
   "source": [
    "1. **Description**:\n",
    "   - **Linear Stack**: The Sequential API allows you to create models layer-by-layer in a linear stack.\n",
    "   - **Simple**: It's straightforward and easy to use for building standard architectures where each layer has exactly one input tensor and one output tensor.\n",
    "\n",
    "2. **Usage**:\n",
    "   - Best suited for simple, linear architectures where each layer feeds into the next sequentially.\n",
    "   - Typically used for feedforward neural networks where each layer has a clear order of inputs and outputs.\n",
    "\n",
    "\n",
    "3. **Advantages**:\n",
    "   - **Simplicity**: Easier to understand and quick to implement.\n",
    "   - **Straightforward**: Intuitive for building basic models without complex architecture requirements.\n",
    "\n",
    "4. **Limitations**:\n",
    "   - **Flexibility**: Less flexible for models with branching, multiple inputs/outputs, or shared layers.\n",
    "   - **Customization**: Limited in customizing internal connections between layers.\n",
    "\n"
   ]
  },
  {
   "cell_type": "code",
   "execution_count": 3,
   "id": "26bb1041",
   "metadata": {},
   "outputs": [],
   "source": [
    "#simple sequential architecture eg\n",
    "model = tf.keras.Sequential([\n",
    "       tf.keras.layers.Dense(64, activation='relu', input_shape=(32,)),\n",
    "       tf.keras.layers.Dense(64, activation='relu'),\n",
    "       tf.keras.layers.Dense(10, activation='softmax')\n",
    "])"
   ]
  },
  {
   "cell_type": "markdown",
   "id": "8417a072",
   "metadata": {},
   "source": [
    "## B] Functional API"
   ]
  },
  {
   "cell_type": "markdown",
   "id": "aef55680",
   "metadata": {},
   "source": [
    "1. **Description**:\n",
    "   - **Graph-like**: The Functional API allows you to create models that are more complex, with multiple inputs, multiple outputs, shared layers, and branching.\n",
    "   - **Connections**: You can define arbitrary connections between layers, making it suitable for building intricate architectures.\n",
    "\n",
    "2. **Usage**:\n",
    "   - Best suited for advanced architectures such as multi-input, multi-output models, models with shared layers (Siamese networks), and architectures with skip connections (Residual networks).\n",
    "\n",
    "\n",
    "3. **Advantages**:\n",
    "   - **Flexibility**: Supports complex models with shared layers, multiple inputs/outputs, and custom connections.\n",
    "   - **Customization**: More control over how layers are connected and data flows through the model.\n",
    "\n",
    "4. **Limitations**:\n",
    "   - **Complexity**: Requires a deeper understanding of TensorFlow/Keras and more effort to implement compared to the Sequential API.\n",
    "   - **Learning Curve**: Steeper learning curve due to the need to define model inputs and outputs explicitly."
   ]
  },
  {
   "cell_type": "code",
   "execution_count": 6,
   "id": "1e1c8d82",
   "metadata": {},
   "outputs": [],
   "source": [
    "#simple functional architecture eg\n",
    "\n",
    "#architecture\n",
    "inputs=tf.keras.Input(shape=(32,))\n",
    "x=tf.keras.layers.Dense(64,activation='relu')(inputs) #input layer\n",
    "x=tf.keras.layers.Dense(1228,activation='relu')(x) #hidden layer\n",
    "outputs=tf.keras.layers.Dense(2,activation='softmax')(x)\n",
    "\n",
    "#model\n",
    "model=tf.keras.Model(inputs=inputs,outputs=outputs)"
   ]
  },
  {
   "cell_type": "markdown",
   "id": "e3a23059",
   "metadata": {},
   "source": [
    "#### Summary\n",
    "\n",
    "- **Sequential API** is simpler and best suited for linear stack models with a single input and output flow.\n",
    "- **Functional API** offers more flexibility and is ideal for complex architectures with multiple inputs/outputs, shared layers, and non-linear connections.\n",
    "\n",
    "Choosing between them depends on your specific model requirements. For most basic neural networks, the Sequential API is sufficient and easier to work with. However, for more complex architectures and advanced functionalities, the Functional API provides the necessary flexibility and control."
   ]
  },
  {
   "cell_type": "code",
   "execution_count": null,
   "id": "1a1c5fa7",
   "metadata": {},
   "outputs": [],
   "source": []
  }
 ],
 "metadata": {
  "kernelspec": {
   "display_name": "Python 3 (ipykernel)",
   "language": "python",
   "name": "python3"
  },
  "language_info": {
   "codemirror_mode": {
    "name": "ipython",
    "version": 3
   },
   "file_extension": ".py",
   "mimetype": "text/x-python",
   "name": "python",
   "nbconvert_exporter": "python",
   "pygments_lexer": "ipython3",
   "version": "3.10.9"
  }
 },
 "nbformat": 4,
 "nbformat_minor": 5
}
