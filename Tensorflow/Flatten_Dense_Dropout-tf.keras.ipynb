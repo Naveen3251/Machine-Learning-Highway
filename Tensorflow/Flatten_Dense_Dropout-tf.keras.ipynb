{
 "cells": [
  {
   "cell_type": "code",
   "execution_count": 1,
   "id": "858c0e83",
   "metadata": {},
   "outputs": [],
   "source": [
    "import tensorflow as tf"
   ]
  },
  {
   "cell_type": "markdown",
   "id": "c70df896",
   "metadata": {},
   "source": [
    "# 1] tf.keras.layers.Flatten"
   ]
  },
  {
   "cell_type": "markdown",
   "id": "2b1d5a87",
   "metadata": {},
   "source": [
    "Reshapes a n-dimensional input to a single n-1 dimensional tensor.\n",
    "\n",
    "**Use Case: After convolutional layers to flatten the output before feeding it to dense layers.**"
   ]
  },
  {
   "cell_type": "markdown",
   "id": "14a31b79",
   "metadata": {},
   "source": [
    "### Example : 1 - Without using expand dims"
   ]
  },
  {
   "cell_type": "code",
   "execution_count": 2,
   "id": "57b41c1c",
   "metadata": {},
   "outputs": [],
   "source": [
    "# Sample 3D data (e.g., a single 3x3 \"image\" with 2 channels)\n",
    "data = tf.constant([[[1, 2], [3, 4], [5, 6]], \n",
    "                    [[7, 8], [9, 10], [11, 12]], \n",
    "                    [[13, 14], [15, 16], [17, 18]]], dtype=tf.float32)"
   ]
  },
  {
   "cell_type": "code",
   "execution_count": 3,
   "id": "5b3d06fd",
   "metadata": {},
   "outputs": [
    {
     "name": "stdout",
     "output_type": "stream",
     "text": [
      "Original data shape :  (3, 3, 2)\n"
     ]
    }
   ],
   "source": [
    "print(\"Original data shape : \",data.shape)"
   ]
  },
  {
   "cell_type": "code",
   "execution_count": 11,
   "id": "1bd0b5a5",
   "metadata": {},
   "outputs": [
    {
     "name": "stdout",
     "output_type": "stream",
     "text": [
      "Original data : \n"
     ]
    },
    {
     "data": {
      "text/plain": [
       "array([[[ 1.,  2.],\n",
       "        [ 3.,  4.],\n",
       "        [ 5.,  6.]],\n",
       "\n",
       "       [[ 7.,  8.],\n",
       "        [ 9., 10.],\n",
       "        [11., 12.]],\n",
       "\n",
       "       [[13., 14.],\n",
       "        [15., 16.],\n",
       "        [17., 18.]]], dtype=float32)"
      ]
     },
     "execution_count": 11,
     "metadata": {},
     "output_type": "execute_result"
    }
   ],
   "source": [
    "print(\"Original data : \")\n",
    "data.numpy()"
   ]
  },
  {
   "cell_type": "code",
   "execution_count": 4,
   "id": "217147f1",
   "metadata": {},
   "outputs": [],
   "source": [
    "flatten_layer=tf.keras.layers.Flatten()"
   ]
  },
  {
   "cell_type": "code",
   "execution_count": 5,
   "id": "ae646e2e",
   "metadata": {},
   "outputs": [],
   "source": [
    "flatten_data=flatten_layer(data)"
   ]
  },
  {
   "cell_type": "code",
   "execution_count": 14,
   "id": "ef213dce",
   "metadata": {},
   "outputs": [
    {
     "name": "stdout",
     "output_type": "stream",
     "text": [
      "Flattened data shape :  (3, 6)\n"
     ]
    }
   ],
   "source": [
    "#(3,3,2)-->(3,3*2)=(3,6)\n",
    "print(\"Flattened data shape : \",flatten_data.shape)"
   ]
  },
  {
   "cell_type": "code",
   "execution_count": 12,
   "id": "d74db9a1",
   "metadata": {},
   "outputs": [
    {
     "name": "stdout",
     "output_type": "stream",
     "text": [
      "Flattened data : \n"
     ]
    },
    {
     "data": {
      "text/plain": [
       "array([[ 1.,  2.,  3.,  4.,  5.,  6.],\n",
       "       [ 7.,  8.,  9., 10., 11., 12.],\n",
       "       [13., 14., 15., 16., 17., 18.]], dtype=float32)"
      ]
     },
     "execution_count": 12,
     "metadata": {},
     "output_type": "execute_result"
    }
   ],
   "source": [
    "print(\"Flattened data : \")\n",
    "flatten_data.numpy()"
   ]
  },
  {
   "cell_type": "markdown",
   "id": "8ec61301",
   "metadata": {},
   "source": [
    "### Example 2 - With using expand dims"
   ]
  },
  {
   "cell_type": "code",
   "execution_count": 19,
   "id": "11b4b2fb",
   "metadata": {},
   "outputs": [],
   "source": [
    "# Sample 3D data (e.g., a single 3x3 \"image\" with 2 channels)\n",
    "data = tf.constant([[[1, 2], [3, 4], [5, 6]], \n",
    "                    [[7, 8], [9, 10], [11, 12]], \n",
    "                    [[13, 14], [15, 16], [17, 18]]], dtype=tf.float32)"
   ]
  },
  {
   "cell_type": "markdown",
   "id": "780cbb4e",
   "metadata": {},
   "source": [
    "#### (h,w,channels):(3,3,2)-->(batchsize,h,w,channels):(1,3,3,2)"
   ]
  },
  {
   "cell_type": "code",
   "execution_count": 22,
   "id": "20da6129",
   "metadata": {},
   "outputs": [
    {
     "data": {
      "text/plain": [
       "<tf.Tensor: shape=(1, 3, 3, 2), dtype=float32, numpy=\n",
       "array([[[[ 1.,  2.],\n",
       "         [ 3.,  4.],\n",
       "         [ 5.,  6.]],\n",
       "\n",
       "        [[ 7.,  8.],\n",
       "         [ 9., 10.],\n",
       "         [11., 12.]],\n",
       "\n",
       "        [[13., 14.],\n",
       "         [15., 16.],\n",
       "         [17., 18.]]]], dtype=float32)>"
      ]
     },
     "execution_count": 22,
     "metadata": {},
     "output_type": "execute_result"
    }
   ],
   "source": [
    "expanded_data=tf.expand_dims(data,axis=0)\n",
    "expanded_data"
   ]
  },
  {
   "cell_type": "code",
   "execution_count": 23,
   "id": "08ba5366",
   "metadata": {},
   "outputs": [],
   "source": [
    "flatten=tf.keras.layers.Flatten()"
   ]
  },
  {
   "cell_type": "code",
   "execution_count": 26,
   "id": "f56f102a",
   "metadata": {},
   "outputs": [],
   "source": [
    "#(1,3,3,2)-->(1,3*3*2)=(1,18)\n",
    "flattened_data=flatten(expanded_data)"
   ]
  },
  {
   "cell_type": "code",
   "execution_count": 27,
   "id": "17c0834e",
   "metadata": {},
   "outputs": [
    {
     "data": {
      "text/plain": [
       "<tf.Tensor: shape=(1, 18), dtype=float32, numpy=\n",
       "array([[ 1.,  2.,  3.,  4.,  5.,  6.,  7.,  8.,  9., 10., 11., 12., 13.,\n",
       "        14., 15., 16., 17., 18.]], dtype=float32)>"
      ]
     },
     "execution_count": 27,
     "metadata": {},
     "output_type": "execute_result"
    }
   ],
   "source": [
    "flattened_data"
   ]
  },
  {
   "cell_type": "markdown",
   "id": "755f2f83",
   "metadata": {},
   "source": [
    "# 2] tf.keras.layers.Dense"
   ]
  },
  {
   "cell_type": "markdown",
   "id": "18eccc86",
   "metadata": {},
   "source": [
    "Fully connected layer where each neuron receives input from all neurons in the previous layer.\n",
    "\n",
    "**Use Case:**\n",
    "\n",
    "   **Typically used at the end of the network for classification or regression tasks,**\n",
    "   **but can also be used in intermediate layers for feature extraction and transformation.**"
   ]
  },
  {
   "cell_type": "markdown",
   "id": "2a97c021",
   "metadata": {},
   "source": [
    "Number of neurons:\n",
    "    \n",
    "    1] Binary classification (0 or 1) : Dense(1)\n",
    "        \n",
    "    2] Multiclass Classification (n classes) : Dense(n)\n",
    "        \n",
    "    3] Regression : Dense(1) note : default activation func : Linear for regression task"
   ]
  },
  {
   "cell_type": "code",
   "execution_count": 38,
   "id": "67a8eb74",
   "metadata": {},
   "outputs": [],
   "source": [
    "# Sample data (2D)\n",
    "data = tf.constant([[1, 2, 3, 4]], dtype=tf.float32)"
   ]
  },
  {
   "cell_type": "code",
   "execution_count": 39,
   "id": "dbd018bc",
   "metadata": {},
   "outputs": [],
   "source": [
    "dense_layer=tf.keras.layers.Dense(3,activation='leaky_relu')"
   ]
  },
  {
   "cell_type": "code",
   "execution_count": 40,
   "id": "9f39cc97",
   "metadata": {},
   "outputs": [],
   "source": [
    "dense_data=dense_layer(data)"
   ]
  },
  {
   "cell_type": "code",
   "execution_count": 41,
   "id": "014630e1",
   "metadata": {},
   "outputs": [
    {
     "data": {
      "text/plain": [
       "array([[-0.3963044,  2.972586 ,  3.16109  ]], dtype=float32)"
      ]
     },
     "execution_count": 41,
     "metadata": {},
     "output_type": "execute_result"
    }
   ],
   "source": [
    "dense_data.numpy()"
   ]
  },
  {
   "cell_type": "markdown",
   "id": "b7694922",
   "metadata": {},
   "source": [
    "# 3] tf.keras.layers.Dropout"
   ]
  },
  {
   "cell_type": "markdown",
   "id": "7273c2a3",
   "metadata": {},
   "source": [
    "1] The Dropout layer is typically **applied after fully connected (dense) layers** \n",
    "   or sometimes **after convolutional layers** in a neural network\n",
    "\n",
    "2] The main purpose of dropout is to **prevent overfitting by randomly setting a fraction of the input units to 0 at each update    during training time**\n",
    "\n",
    "3]"
   ]
  },
  {
   "cell_type": "code",
   "execution_count": 46,
   "id": "f5a54db3",
   "metadata": {},
   "outputs": [
    {
     "name": "stdout",
     "output_type": "stream",
     "text": [
      "Original data:\n"
     ]
    },
    {
     "data": {
      "text/plain": [
       "array([[1., 2., 3., 4., 5.]], dtype=float32)"
      ]
     },
     "execution_count": 46,
     "metadata": {},
     "output_type": "execute_result"
    }
   ],
   "source": [
    "# Sample data\n",
    "data = tf.constant([[1, 2, 3, 4, 5]], dtype=tf.float32)\n",
    "\n",
    "print(\"Original data:\")\n",
    "\n",
    "data.numpy()"
   ]
  },
  {
   "cell_type": "code",
   "execution_count": 47,
   "id": "8756d061",
   "metadata": {},
   "outputs": [],
   "source": [
    "dropout_layer=tf.keras.layers.Dropout(0.2)"
   ]
  },
  {
   "cell_type": "code",
   "execution_count": 48,
   "id": "d03f7bf6",
   "metadata": {},
   "outputs": [],
   "source": [
    "output=dropout_layer(data,training=True)  # Set training=True to apply dropout"
   ]
  },
  {
   "cell_type": "code",
   "execution_count": 49,
   "id": "775b1601",
   "metadata": {},
   "outputs": [
    {
     "name": "stdout",
     "output_type": "stream",
     "text": [
      "Dropped O/P data : \n"
     ]
    },
    {
     "data": {
      "text/plain": [
       "array([[1.25, 0.  , 3.75, 5.  , 6.25]], dtype=float32)"
      ]
     },
     "execution_count": 49,
     "metadata": {},
     "output_type": "execute_result"
    }
   ],
   "source": [
    "print(\"Dropped O/P data : \")\n",
    "output.numpy()"
   ]
  },
  {
   "cell_type": "code",
   "execution_count": null,
   "id": "c86ff283",
   "metadata": {},
   "outputs": [],
   "source": []
  }
 ],
 "metadata": {
  "kernelspec": {
   "display_name": "Python 3 (ipykernel)",
   "language": "python",
   "name": "python3"
  },
  "language_info": {
   "codemirror_mode": {
    "name": "ipython",
    "version": 3
   },
   "file_extension": ".py",
   "mimetype": "text/x-python",
   "name": "python",
   "nbconvert_exporter": "python",
   "pygments_lexer": "ipython3",
   "version": "3.10.9"
  }
 },
 "nbformat": 4,
 "nbformat_minor": 5
}
