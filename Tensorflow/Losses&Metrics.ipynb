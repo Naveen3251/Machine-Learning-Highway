{
 "cells": [
  {
   "cell_type": "code",
   "execution_count": 1,
   "id": "ab006272",
   "metadata": {},
   "outputs": [],
   "source": [
    "import tensorflow as tf"
   ]
  },
  {
   "cell_type": "markdown",
   "id": "ef24a1c0",
   "metadata": {},
   "source": [
    "# Metrics VS Losses"
   ]
  },
  {
   "cell_type": "markdown",
   "id": "cd693333",
   "metadata": {},
   "source": [
    "**Metrics:** Used to evaluate model performance during training and evaluation.\n",
    "\n",
    "**Losses:** Used to optimize model parameters during training by measuring the error between predictions and actual targets."
   ]
  },
  {
   "cell_type": "markdown",
   "id": "2511ba11",
   "metadata": {},
   "source": [
    "# Regression"
   ]
  },
  {
   "cell_type": "markdown",
   "id": "26c7cbbc",
   "metadata": {},
   "source": [
    "### a) Losses"
   ]
  },
  {
   "cell_type": "markdown",
   "id": "00946311",
   "metadata": {},
   "source": [
    "#### 1] MSE-Mean Square error"
   ]
  },
  {
   "cell_type": "markdown",
   "id": "668914bd",
   "metadata": {},
   "source": [
    "$\\text{MSE} = \\frac{1}{n} \\sum_{i=1}^{n} \\left( y_{\\text{true},i} - y_{\\text{pred},i} \\right)^2\\$"
   ]
  },
  {
   "cell_type": "code",
   "execution_count": 2,
   "id": "68cfc7bc",
   "metadata": {},
   "outputs": [],
   "source": [
    "# Sample data\n",
    "y_true = tf.constant([1.0, 2.0, 3.0, 4.0])\n",
    "y_pred = tf.constant([0.9, 2.1, 2.8, 4.2])"
   ]
  },
  {
   "cell_type": "code",
   "execution_count": 4,
   "id": "f07e5fe7",
   "metadata": {},
   "outputs": [],
   "source": [
    "mse=tf.keras.losses.MeanSquaredError()"
   ]
  },
  {
   "cell_type": "code",
   "execution_count": 8,
   "id": "70b3c5ff",
   "metadata": {},
   "outputs": [
    {
     "name": "stdout",
     "output_type": "stream",
     "text": [
      "MSE :  0.024999984\n"
     ]
    }
   ],
   "source": [
    "print(\"MSE : \",mse(y_true,y_pred).numpy())"
   ]
  },
  {
   "cell_type": "markdown",
   "id": "5c086f2f",
   "metadata": {},
   "source": [
    "#### 2] Huber Loss"
   ]
  },
  {
   "cell_type": "markdown",
   "id": "3ea85d7b",
   "metadata": {},
   "source": [
    "L =\n",
    "\\begin{cases} \n",
    "\\frac{1}{2}(y_{\\text{true}} - y_{\\text{pred}})^2 & \\text{if } |y_{\\text{true}} - y_{\\text{pred}}| \\leq \\delta \\\\\n",
    "\\delta (|y_{\\text{true}} - y_{\\text{pred}}| - \\frac{1}{2}\\delta) & \\text{otherwise}\n",
    "\\end{cases}"
   ]
  },
  {
   "cell_type": "code",
   "execution_count": 6,
   "id": "f67896b3",
   "metadata": {},
   "outputs": [],
   "source": [
    "# Sample data\n",
    "y_true = tf.constant([1.0, 2.0, 3.0, 4.0])\n",
    "y_pred = tf.constant([0.9, 2.1, 2.8, 4.2])"
   ]
  },
  {
   "cell_type": "code",
   "execution_count": 7,
   "id": "aa126203",
   "metadata": {},
   "outputs": [],
   "source": [
    "huber=tf.keras.losses.Huber(delta=1.0)"
   ]
  },
  {
   "cell_type": "code",
   "execution_count": 9,
   "id": "909d3738",
   "metadata": {},
   "outputs": [
    {
     "name": "stdout",
     "output_type": "stream",
     "text": [
      "Hube Loss :  0.012499992\n"
     ]
    }
   ],
   "source": [
    "print(\"Hube Loss : \",huber(y_true,y_pred).numpy())"
   ]
  },
  {
   "cell_type": "markdown",
   "id": "8784d779",
   "metadata": {},
   "source": [
    "#### 3] Mean Squared Logarithmic Error (MSLE)"
   ]
  },
  {
   "cell_type": "markdown",
   "id": "edb102d9",
   "metadata": {},
   "source": [
    "MSLE = $\\frac{1}{n} \\sum_{i=1}^{n} \\left( \\log(y_{\\text{true},i} + 1) - \\log(y_{\\text{pred},i} + 1) \\right)^2\\$"
   ]
  },
  {
   "cell_type": "code",
   "execution_count": 18,
   "id": "319bc832",
   "metadata": {},
   "outputs": [],
   "source": [
    "# Sample data\n",
    "y_true = tf.constant([1.0, 2.0, 3.0, 4.0])\n",
    "y_pred = tf.constant([0.9, 2.1, 2.8, 4.2])"
   ]
  },
  {
   "cell_type": "code",
   "execution_count": 20,
   "id": "881cf257",
   "metadata": {},
   "outputs": [],
   "source": [
    "msle=tf.keras.losses.MeanSquaredLogarithmicError()"
   ]
  },
  {
   "cell_type": "code",
   "execution_count": 21,
   "id": "304f4552",
   "metadata": {},
   "outputs": [
    {
     "name": "stdout",
     "output_type": "stream",
     "text": [
      "MSLE Loss :  0.001968857\n"
     ]
    }
   ],
   "source": [
    "print(\"MSLE Loss : \",msle(y_true,y_pred).numpy())"
   ]
  },
  {
   "cell_type": "markdown",
   "id": "7d459d4a",
   "metadata": {},
   "source": [
    "### b) Metrics"
   ]
  },
  {
   "cell_type": "markdown",
   "id": "c674f392",
   "metadata": {},
   "source": [
    "#### 1] Mean Absolute Error (MAE)"
   ]
  },
  {
   "cell_type": "markdown",
   "id": "81da85ca",
   "metadata": {},
   "source": [
    "$\\text{MAE} = \\frac{1}{n} \\sum_{i=1}^{n} \\left| y_{\\text{true}, i} - y_{\\text{pred}, i} \\right|$\n"
   ]
  },
  {
   "cell_type": "code",
   "execution_count": 15,
   "id": "45be9920",
   "metadata": {},
   "outputs": [],
   "source": [
    "# Sample data\n",
    "y_true = tf.constant([1.0, 2.0, 3.0, 4.0])\n",
    "y_pred = tf.constant([0.9, 2.1, 2.8, 4.2])"
   ]
  },
  {
   "cell_type": "code",
   "execution_count": 16,
   "id": "44017606",
   "metadata": {},
   "outputs": [],
   "source": [
    "mae=tf.keras.metrics.MeanAbsoluteError()"
   ]
  },
  {
   "cell_type": "code",
   "execution_count": 17,
   "id": "2fceadf9",
   "metadata": {},
   "outputs": [
    {
     "name": "stdout",
     "output_type": "stream",
     "text": [
      "MAE :  0.14999995\n"
     ]
    }
   ],
   "source": [
    "print(\"MAE : \",mae(y_true,y_pred).numpy())"
   ]
  },
  {
   "cell_type": "markdown",
   "id": "ee9ef58d",
   "metadata": {},
   "source": [
    "# Classification"
   ]
  },
  {
   "cell_type": "markdown",
   "id": "a7cf3384",
   "metadata": {},
   "source": [
    "### a) Losses"
   ]
  },
  {
   "cell_type": "markdown",
   "id": "e7b94a9a",
   "metadata": {},
   "source": [
    "#### 1] Binary Crossentropy"
   ]
  },
  {
   "cell_type": "markdown",
   "id": "4719c793",
   "metadata": {},
   "source": [
    "$\\text{Binary Cross Entropy} = - \\frac{1}{N} \\sum_{i=1}^{N} \\left( y_i \\log(p_i) + (1 - y_i) \\log(1 - p_i) \\right)$\n"
   ]
  },
  {
   "cell_type": "code",
   "execution_count": 22,
   "id": "27c7e3a5",
   "metadata": {},
   "outputs": [],
   "source": [
    "# Sample data (binary classification)\n",
    "y_true = tf.constant([0.0, 1.0, 1.0, 0.0])\n",
    "y_pred = tf.constant([0.1, 0.9, 0.8, 0.2])"
   ]
  },
  {
   "cell_type": "code",
   "execution_count": 24,
   "id": "e348afd2",
   "metadata": {},
   "outputs": [],
   "source": [
    "bce=tf.keras.losses.BinaryCrossentropy()"
   ]
  },
  {
   "cell_type": "code",
   "execution_count": 25,
   "id": "2afbc809",
   "metadata": {},
   "outputs": [
    {
     "name": "stdout",
     "output_type": "stream",
     "text": [
      "Binary cross entropy loss :  0.1642519\n"
     ]
    }
   ],
   "source": [
    "print(\"Binary cross entropy loss : \",bce(y_true,y_pred).numpy())"
   ]
  },
  {
   "cell_type": "markdown",
   "id": "a8c0c728",
   "metadata": {},
   "source": [
    "#### 2] Categorical Crossentropy - Data in one hot encode format"
   ]
  },
  {
   "cell_type": "markdown",
   "id": "db435668",
   "metadata": {},
   "source": [
    "$\\text{Categorical Cross Entropy} = - \\frac{1}{N} \\sum_{i=1}^{N} \\sum_{c=1}^{C} y_{i,c} \\log(p_{i,c})$"
   ]
  },
  {
   "cell_type": "code",
   "execution_count": 26,
   "id": "e5835ca1",
   "metadata": {},
   "outputs": [],
   "source": [
    "# Sample data (multi-class classification, one-hot encoded)\n",
    "y_true = tf.constant([[0, 1, 0], [1, 0, 0], [0, 0, 1]])\n",
    "y_pred = tf.constant([[0.1, 0.9, 0.0], [0.8, 0.1, 0.1], [0.0, 0.0, 1.0]])"
   ]
  },
  {
   "cell_type": "code",
   "execution_count": 27,
   "id": "6068ac71",
   "metadata": {},
   "outputs": [],
   "source": [
    "cce=tf.keras.losses.CategoricalCrossentropy()"
   ]
  },
  {
   "cell_type": "code",
   "execution_count": 28,
   "id": "52d1c20d",
   "metadata": {},
   "outputs": [
    {
     "name": "stdout",
     "output_type": "stream",
     "text": [
      "Categorical cross entropy loss :  0.1095014\n"
     ]
    }
   ],
   "source": [
    "print(\"Categorical cross entropy loss : \",cce(y_true,y_pred).numpy())"
   ]
  },
  {
   "cell_type": "markdown",
   "id": "384aa3f4",
   "metadata": {},
   "source": [
    "#### 3] Sparse categorical corssentropy - Data in label formal 0,1,2,....num_class-1"
   ]
  },
  {
   "cell_type": "code",
   "execution_count": 36,
   "id": "ffe1407e",
   "metadata": {},
   "outputs": [],
   "source": [
    "# Sample data (multi-class classification, sparse labels)\n",
    "y_true = tf.constant([1, 0, 2])  # Labels are integers\n",
    "y_pred = tf.constant([[0.1, 0.9, 0.0], [0.8, 0.1, 0.1], [0.0, 0.0, 1.0]])"
   ]
  },
  {
   "cell_type": "code",
   "execution_count": 37,
   "id": "04a2eded",
   "metadata": {},
   "outputs": [],
   "source": [
    "scce=tf.keras.losses.SparseCategoricalCrossentropy()"
   ]
  },
  {
   "cell_type": "code",
   "execution_count": 40,
   "id": "3a9bf18b",
   "metadata": {},
   "outputs": [
    {
     "name": "stdout",
     "output_type": "stream",
     "text": [
      "Sparse Categorical cross entropy loss :  0.10950148\n"
     ]
    }
   ],
   "source": [
    "print(\"Sparse Categorical cross entropy loss : \",scce(y_true,y_pred).numpy())"
   ]
  },
  {
   "cell_type": "markdown",
   "id": "5eb2e0fb",
   "metadata": {},
   "source": [
    "### b) Metrics"
   ]
  },
  {
   "cell_type": "markdown",
   "id": "5618cfa6",
   "metadata": {},
   "source": [
    "#### 1] Accuracy"
   ]
  },
  {
   "cell_type": "markdown",
   "id": "b76a2e25",
   "metadata": {},
   "source": [
    "$\\text{Accuracy} = \\frac{TP + TN}{TP + TN + FP + FN}$\n"
   ]
  },
  {
   "cell_type": "code",
   "execution_count": 29,
   "id": "1a98c3b4",
   "metadata": {},
   "outputs": [],
   "source": [
    "# Sample data (binary classification)\n",
    "y_true = tf.constant([0, 1, 1, 0])\n",
    "y_pred = tf.constant([0, 1, 0, 0])"
   ]
  },
  {
   "cell_type": "code",
   "execution_count": 30,
   "id": "01287c1a",
   "metadata": {},
   "outputs": [],
   "source": [
    "acc=tf.keras.metrics.Accuracy()"
   ]
  },
  {
   "cell_type": "code",
   "execution_count": 31,
   "id": "81cc50b5",
   "metadata": {},
   "outputs": [
    {
     "name": "stdout",
     "output_type": "stream",
     "text": [
      "Accuracy :  0.75\n"
     ]
    }
   ],
   "source": [
    "print(\"Accuracy : \",acc(y_true,y_pred).numpy())"
   ]
  },
  {
   "cell_type": "markdown",
   "id": "c00207e2",
   "metadata": {},
   "source": [
    "#### 2] Precision"
   ]
  },
  {
   "cell_type": "markdown",
   "id": "a5b28d8f",
   "metadata": {},
   "source": [
    "$\\text{Precision} = \\frac{\\text{True Positives}}{\\text{True Positives} + \\text{False Positives}}$"
   ]
  },
  {
   "cell_type": "code",
   "execution_count": 32,
   "id": "03ba8fe5",
   "metadata": {},
   "outputs": [],
   "source": [
    "# Sample data (binary classification)\n",
    "y_true = tf.constant([0, 1, 1, 0])\n",
    "y_pred = tf.constant([0, 1, 0, 0])"
   ]
  },
  {
   "cell_type": "code",
   "execution_count": 33,
   "id": "40cf99da",
   "metadata": {},
   "outputs": [],
   "source": [
    "pre=tf.keras.metrics.Accuracy()"
   ]
  },
  {
   "cell_type": "code",
   "execution_count": 34,
   "id": "85186a1e",
   "metadata": {},
   "outputs": [
    {
     "name": "stdout",
     "output_type": "stream",
     "text": [
      "Precision :  0.75\n"
     ]
    }
   ],
   "source": [
    "print(\"Precision : \",pre(y_true,y_pred).numpy())"
   ]
  },
  {
   "cell_type": "raw",
   "id": "9dfc9ff0",
   "metadata": {},
   "source": [
    "Note :  Precision and accuracy can also used as metrics for multiclass classification problem"
   ]
  },
  {
   "cell_type": "code",
   "execution_count": null,
   "id": "a598b12f",
   "metadata": {},
   "outputs": [],
   "source": []
  },
  {
   "cell_type": "code",
   "execution_count": 41,
   "id": "a02d8771",
   "metadata": {},
   "outputs": [
    {
     "name": "stdout",
     "output_type": "stream",
     "text": [
      "Precision: 1.0\n"
     ]
    }
   ],
   "source": [
    "# Sample data for multi-class\n",
    "y_true = tf.constant([0, 1, 2, 1, 2])\n",
    "y_pred = tf.constant([0, 2, 2, 1, 0])\n",
    "\n",
    "# Precision for multi-class\n",
    "precision = tf.keras.metrics.Precision()\n",
    "precision.update_state(y_true, y_pred)\n",
    "precision_value = precision.result().numpy()\n",
    "print(\"Precision:\", precision_value)"
   ]
  },
  {
   "cell_type": "code",
   "execution_count": 42,
   "id": "079af7a2",
   "metadata": {},
   "outputs": [
    {
     "name": "stdout",
     "output_type": "stream",
     "text": [
      "TensorFlow Accuracy: 0.6\n",
      "Sklearn Accuracy: 0.6\n"
     ]
    }
   ],
   "source": [
    "# Sample data (assuming true and predicted labels)\n",
    "y_true = tf.constant([0, 1, 2, 1, 0])  # True labels\n",
    "y_pred = tf.constant([0, 1, 2, 2, 1])  # Predicted labels\n",
    "\n",
    "# Compute accuracy using TensorFlow\n",
    "accuracy = tf.keras.metrics.Accuracy()\n",
    "accuracy.update_state(y_true, y_pred)\n",
    "accuracy_result = accuracy.result().numpy()\n",
    "\n",
    "\n",
    "print(\"TensorFlow Accuracy:\", accuracy_result)"
   ]
  },
  {
   "cell_type": "code",
   "execution_count": null,
   "id": "144ffca7",
   "metadata": {},
   "outputs": [],
   "source": []
  }
 ],
 "metadata": {
  "kernelspec": {
   "display_name": "Python 3 (ipykernel)",
   "language": "python",
   "name": "python3"
  },
  "language_info": {
   "codemirror_mode": {
    "name": "ipython",
    "version": 3
   },
   "file_extension": ".py",
   "mimetype": "text/x-python",
   "name": "python",
   "nbconvert_exporter": "python",
   "pygments_lexer": "ipython3",
   "version": "3.10.9"
  }
 },
 "nbformat": 4,
 "nbformat_minor": 5
}
