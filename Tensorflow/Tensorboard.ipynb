{
 "cells": [
  {
   "cell_type": "code",
   "execution_count": 6,
   "id": "e9e3a643",
   "metadata": {},
   "outputs": [],
   "source": [
    "import tensorflow as tf\n",
    "import datetime"
   ]
  },
  {
   "cell_type": "markdown",
   "id": "8325166a",
   "metadata": {},
   "source": [
    "TensorBoard is a visualization tool provided by TensorFlow that allows users to visualize and analyze various aspects of their machine learning models. It provides interactive dashboards for **monitoring training metrics, visualizing model graphs, profiling performance, and debugging models**. TensorBoard helps researchers and developers gain insights into their models, track experiments, and make informed decisions during the machine learning workflow."
   ]
  },
  {
   "cell_type": "markdown",
   "id": "3e10cd73",
   "metadata": {},
   "source": [
    "## Installation command"
   ]
  },
  {
   "cell_type": "raw",
   "id": "8c471b39",
   "metadata": {},
   "source": [
    "!pip install tensorboard"
   ]
  },
  {
   "cell_type": "markdown",
   "id": "33388445",
   "metadata": {},
   "source": [
    "## Checking version"
   ]
  },
  {
   "cell_type": "code",
   "execution_count": 5,
   "id": "a67cb975",
   "metadata": {},
   "outputs": [
    {
     "name": "stdout",
     "output_type": "stream",
     "text": [
      "2.14.1\n"
     ]
    }
   ],
   "source": [
    "!tensorboard --version"
   ]
  },
  {
   "cell_type": "markdown",
   "id": "e3adac20",
   "metadata": {},
   "source": [
    "## Basic Logging and Visualization"
   ]
  },
  {
   "cell_type": "markdown",
   "id": "e870bb20",
   "metadata": {},
   "source": [
    "#### Model"
   ]
  },
  {
   "cell_type": "code",
   "execution_count": 10,
   "id": "54d53452",
   "metadata": {},
   "outputs": [],
   "source": [
    "# Define a simple model\n",
    "model = tf.keras.Sequential([\n",
    "    tf.keras.layers.Dense(64, activation='relu', input_shape=(32,)),\n",
    "    tf.keras.layers.Dense(64, activation='relu'),\n",
    "    tf.keras.layers.Dense(10, activation='softmax')\n",
    "])\n",
    "\n",
    "# Compile the model\n",
    "model.compile(optimizer='adam', loss='sparse_categorical_crossentropy', metrics=['accuracy'])\n",
    "\n",
    "# Generate dummy training data\n",
    "x_train = tf.random.normal((1000, 32))\n",
    "y_train = tf.random.uniform((1000,), maxval=10, dtype=tf.int32)\n",
    "x_val = tf.random.normal((200, 32))\n",
    "y_val = tf.random.uniform((200,), maxval=10, dtype=tf.int32)"
   ]
  },
  {
   "cell_type": "markdown",
   "id": "346ed7a8",
   "metadata": {},
   "source": [
    "### 1] Setup Logging Directory"
   ]
  },
  {
   "cell_type": "code",
   "execution_count": 9,
   "id": "e572fab6",
   "metadata": {},
   "outputs": [],
   "source": [
    "log_dir='logs/fit/'+datetime.datetime.now().strftime(\"%Y%m%d-%H%M%S\")\n",
    "tensorboard_callback=tf.keras.callbacks.TensorBoard(\n",
    "    log_dir=log_dir,\n",
    "    histogram_freq=1 # Log histograms every epoch\n",
    ")"
   ]
  },
  {
   "cell_type": "markdown",
   "id": "804dd8e9",
   "metadata": {},
   "source": [
    "### 2] Using the TensorBoard Callback"
   ]
  },
  {
   "cell_type": "code",
   "execution_count": 11,
   "id": "cf09f3f5",
   "metadata": {},
   "outputs": [
    {
     "name": "stdout",
     "output_type": "stream",
     "text": [
      "Epoch 1/25\n",
      "32/32 [==============================] - 2s 18ms/step - loss: 2.3678 - accuracy: 0.1060 - val_loss: 2.3573 - val_accuracy: 0.0750\n",
      "Epoch 2/25\n",
      "32/32 [==============================] - 0s 7ms/step - loss: 2.2750 - accuracy: 0.1340 - val_loss: 2.3492 - val_accuracy: 0.0850\n",
      "Epoch 3/25\n",
      "32/32 [==============================] - 0s 6ms/step - loss: 2.2281 - accuracy: 0.1620 - val_loss: 2.3516 - val_accuracy: 0.0750\n",
      "Epoch 4/25\n",
      "32/32 [==============================] - 0s 6ms/step - loss: 2.1858 - accuracy: 0.2010 - val_loss: 2.3567 - val_accuracy: 0.0750\n",
      "Epoch 5/25\n",
      "32/32 [==============================] - 0s 9ms/step - loss: 2.1499 - accuracy: 0.2180 - val_loss: 2.3681 - val_accuracy: 0.0650\n",
      "Epoch 6/25\n",
      "32/32 [==============================] - 0s 10ms/step - loss: 2.1137 - accuracy: 0.2480 - val_loss: 2.3785 - val_accuracy: 0.0950\n",
      "Epoch 7/25\n",
      "32/32 [==============================] - 0s 8ms/step - loss: 2.0802 - accuracy: 0.2670 - val_loss: 2.3823 - val_accuracy: 0.0650\n",
      "Epoch 8/25\n",
      "32/32 [==============================] - 0s 10ms/step - loss: 2.0450 - accuracy: 0.2900 - val_loss: 2.3967 - val_accuracy: 0.0750\n",
      "Epoch 9/25\n",
      "32/32 [==============================] - 0s 6ms/step - loss: 2.0145 - accuracy: 0.3040 - val_loss: 2.4022 - val_accuracy: 0.0750\n",
      "Epoch 10/25\n",
      "32/32 [==============================] - 0s 7ms/step - loss: 1.9819 - accuracy: 0.3150 - val_loss: 2.4149 - val_accuracy: 0.0750\n",
      "Epoch 11/25\n",
      "32/32 [==============================] - 0s 8ms/step - loss: 1.9432 - accuracy: 0.3370 - val_loss: 2.4251 - val_accuracy: 0.0850\n",
      "Epoch 12/25\n",
      "32/32 [==============================] - 0s 10ms/step - loss: 1.9101 - accuracy: 0.3460 - val_loss: 2.4386 - val_accuracy: 0.0850\n",
      "Epoch 13/25\n",
      "32/32 [==============================] - 0s 8ms/step - loss: 1.8728 - accuracy: 0.3820 - val_loss: 2.4551 - val_accuracy: 0.0700\n",
      "Epoch 14/25\n",
      "32/32 [==============================] - 0s 9ms/step - loss: 1.8365 - accuracy: 0.3900 - val_loss: 2.4740 - val_accuracy: 0.0750\n",
      "Epoch 15/25\n",
      "32/32 [==============================] - 0s 9ms/step - loss: 1.7981 - accuracy: 0.4160 - val_loss: 2.4854 - val_accuracy: 0.0700\n",
      "Epoch 16/25\n",
      "32/32 [==============================] - 0s 6ms/step - loss: 1.7607 - accuracy: 0.4230 - val_loss: 2.5135 - val_accuracy: 0.0800\n",
      "Epoch 17/25\n",
      "32/32 [==============================] - 0s 6ms/step - loss: 1.7256 - accuracy: 0.4390 - val_loss: 2.5312 - val_accuracy: 0.0700\n",
      "Epoch 18/25\n",
      "32/32 [==============================] - 0s 6ms/step - loss: 1.6835 - accuracy: 0.4430 - val_loss: 2.5489 - val_accuracy: 0.0800\n",
      "Epoch 19/25\n",
      "32/32 [==============================] - 0s 6ms/step - loss: 1.6475 - accuracy: 0.4850 - val_loss: 2.5728 - val_accuracy: 0.0850\n",
      "Epoch 20/25\n",
      "32/32 [==============================] - 0s 9ms/step - loss: 1.6108 - accuracy: 0.4840 - val_loss: 2.5881 - val_accuracy: 0.0700\n",
      "Epoch 21/25\n",
      "32/32 [==============================] - 0s 10ms/step - loss: 1.5674 - accuracy: 0.5130 - val_loss: 2.6127 - val_accuracy: 0.0800\n",
      "Epoch 22/25\n",
      "32/32 [==============================] - 0s 8ms/step - loss: 1.5281 - accuracy: 0.5300 - val_loss: 2.6463 - val_accuracy: 0.0750\n",
      "Epoch 23/25\n",
      "32/32 [==============================] - 0s 7ms/step - loss: 1.4922 - accuracy: 0.5340 - val_loss: 2.6642 - val_accuracy: 0.0750\n",
      "Epoch 24/25\n",
      "32/32 [==============================] - 0s 7ms/step - loss: 1.4513 - accuracy: 0.5650 - val_loss: 2.6934 - val_accuracy: 0.0750\n",
      "Epoch 25/25\n",
      "32/32 [==============================] - 0s 10ms/step - loss: 1.4073 - accuracy: 0.5910 - val_loss: 2.7181 - val_accuracy: 0.0900\n"
     ]
    },
    {
     "data": {
      "text/plain": [
       "<keras.src.callbacks.History at 0x202e4afd690>"
      ]
     },
     "execution_count": 11,
     "metadata": {},
     "output_type": "execute_result"
    }
   ],
   "source": [
    "model.fit(x_train,y_train,validation_data=(x_val,y_val),epochs=25,callbacks=[tensorboard_callback])"
   ]
  },
  {
   "cell_type": "markdown",
   "id": "fc7d74c0",
   "metadata": {},
   "source": [
    "### 3] Launching the tensorboard"
   ]
  },
  {
   "cell_type": "code",
   "execution_count": 14,
   "id": "63d968ea",
   "metadata": {},
   "outputs": [],
   "source": [
    "# Load the TensorBoard extension\n",
    "%load_ext tensorboard"
   ]
  },
  {
   "cell_type": "code",
   "execution_count": 15,
   "id": "798a33a3",
   "metadata": {},
   "outputs": [
    {
     "data": {
      "text/html": [
       "\n",
       "      <iframe id=\"tensorboard-frame-ce383cf0db6a803\" width=\"100%\" height=\"800\" frameborder=\"0\">\n",
       "      </iframe>\n",
       "      <script>\n",
       "        (function() {\n",
       "          const frame = document.getElementById(\"tensorboard-frame-ce383cf0db6a803\");\n",
       "          const url = new URL(\"/\", window.location);\n",
       "          const port = 6006;\n",
       "          if (port) {\n",
       "            url.port = port;\n",
       "          }\n",
       "          frame.src = url;\n",
       "        })();\n",
       "      </script>\n",
       "    "
      ],
      "text/plain": [
       "<IPython.core.display.HTML object>"
      ]
     },
     "metadata": {},
     "output_type": "display_data"
    }
   ],
   "source": [
    "# Start TensorBoard\n",
    "%tensorboard --logdir logs/fit"
   ]
  },
  {
   "cell_type": "code",
   "execution_count": null,
   "id": "bfcce1cd",
   "metadata": {},
   "outputs": [],
   "source": []
  },
  {
   "cell_type": "markdown",
   "id": "66ba398d",
   "metadata": {},
   "source": [
    "### 4] Using TensorBoard Features"
   ]
  },
  {
   "cell_type": "markdown",
   "id": "feecf202",
   "metadata": {},
   "source": [
    "#### a) Scalar Dashboard"
   ]
  },
  {
   "cell_type": "markdown",
   "id": "b8c9fa76",
   "metadata": {},
   "source": [
    "**Use Case:** Monitoring Metrics\n",
    "\n",
    "**Purpose:** Track scalar metrics such as loss and accuracy during training.\n",
    "    \n",
    "**Example:** Monitoring training and validation loss to detect overfitting."
   ]
  },
  {
   "cell_type": "code",
   "execution_count": 16,
   "id": "54886588",
   "metadata": {},
   "outputs": [],
   "source": [
    "with tf.summary.create_file_writer(log_dir).as_default():\n",
    "    #while training time i use epoch=25 so looping for 25\n",
    "    for epoch in range(25):\n",
    "        tf.summary.scalar('loss',data=model.history.history['loss'][epoch],step=epoch)"
   ]
  },
  {
   "cell_type": "markdown",
   "id": "78078f8e",
   "metadata": {},
   "source": [
    "#### b) Image Dashboard"
   ]
  },
  {
   "cell_type": "markdown",
   "id": "bf8bbd19",
   "metadata": {},
   "source": [
    "**Use Case:** Visualizing Image Data\n",
    "\n",
    "**Purpose:** Inspect input images, generated images, or feature maps.\n",
    "    \n",
    "**Example:** Visualizing samples of training data to ensure they are loaded correctly."
   ]
  },
  {
   "cell_type": "code",
   "execution_count": 20,
   "id": "b3595d61",
   "metadata": {},
   "outputs": [],
   "source": [
    "# Example image logging\n",
    "images = tf.random.normal([10, 28, 28, 1])  # Example images"
   ]
  },
  {
   "cell_type": "code",
   "execution_count": 21,
   "id": "bc6fd557",
   "metadata": {},
   "outputs": [],
   "source": [
    "with tf.summary.create_file_writer(log_dir).as_default():\n",
    "    for epoch in range(25):\n",
    "        tf.summary.image(\"Training data\",images,step=epoch)"
   ]
  },
  {
   "cell_type": "code",
   "execution_count": 22,
   "id": "c3fdbbcb",
   "metadata": {},
   "outputs": [
    {
     "data": {
      "text/plain": [
       "Reusing TensorBoard on port 6006 (pid 16252), started 0:31:08 ago. (Use '!kill 16252' to kill it.)"
      ]
     },
     "metadata": {},
     "output_type": "display_data"
    },
    {
     "data": {
      "text/html": [
       "\n",
       "      <iframe id=\"tensorboard-frame-da40a34714e6f5de\" width=\"100%\" height=\"800\" frameborder=\"0\">\n",
       "      </iframe>\n",
       "      <script>\n",
       "        (function() {\n",
       "          const frame = document.getElementById(\"tensorboard-frame-da40a34714e6f5de\");\n",
       "          const url = new URL(\"/\", window.location);\n",
       "          const port = 6006;\n",
       "          if (port) {\n",
       "            url.port = port;\n",
       "          }\n",
       "          frame.src = url;\n",
       "        })();\n",
       "      </script>\n",
       "    "
      ],
      "text/plain": [
       "<IPython.core.display.HTML object>"
      ]
     },
     "metadata": {},
     "output_type": "display_data"
    }
   ],
   "source": [
    "# Start TensorBoard\n",
    "%tensorboard --logdir logs/fit"
   ]
  },
  {
   "cell_type": "markdown",
   "id": "29df496e",
   "metadata": {},
   "source": [
    "#### c) Graphs Dashboard"
   ]
  },
  {
   "cell_type": "markdown",
   "id": "c38beffa",
   "metadata": {},
   "source": [
    "**Use Case:** Visualizing the Computation Graph\n",
    "\n",
    "**Purpose:** Understand the model structure and debug issues in the computation graph.\n",
    "\n",
    "**Example:** Visualizing the connections between layers in a deep neural network"
   ]
  },
  {
   "cell_type": "code",
   "execution_count": 25,
   "id": "f8972210",
   "metadata": {},
   "outputs": [],
   "source": [
    "with tf.summary.create_file_writer(log_dir).as_default():\n",
    "    tf.summary.graph(tf.compat.v1.get_default_graph())"
   ]
  },
  {
   "cell_type": "code",
   "execution_count": 26,
   "id": "d29f5a3b",
   "metadata": {},
   "outputs": [
    {
     "data": {
      "text/plain": [
       "Reusing TensorBoard on port 6006 (pid 16252), started 0:36:19 ago. (Use '!kill 16252' to kill it.)"
      ]
     },
     "metadata": {},
     "output_type": "display_data"
    },
    {
     "data": {
      "text/html": [
       "\n",
       "      <iframe id=\"tensorboard-frame-6ab0c7a5c35df30f\" width=\"100%\" height=\"800\" frameborder=\"0\">\n",
       "      </iframe>\n",
       "      <script>\n",
       "        (function() {\n",
       "          const frame = document.getElementById(\"tensorboard-frame-6ab0c7a5c35df30f\");\n",
       "          const url = new URL(\"/\", window.location);\n",
       "          const port = 6006;\n",
       "          if (port) {\n",
       "            url.port = port;\n",
       "          }\n",
       "          frame.src = url;\n",
       "        })();\n",
       "      </script>\n",
       "    "
      ],
      "text/plain": [
       "<IPython.core.display.HTML object>"
      ]
     },
     "metadata": {},
     "output_type": "display_data"
    }
   ],
   "source": [
    "%tensorboard --logdir logs/fit"
   ]
  },
  {
   "cell_type": "markdown",
   "id": "780225c7",
   "metadata": {},
   "source": [
    "#### d) Histogram Dashboard"
   ]
  },
  {
   "cell_type": "markdown",
   "id": "79568328",
   "metadata": {},
   "source": [
    "**Use Case:** Visualizing Image Data\n",
    "\n",
    "**Purpose:** Inspect input images, generated images, or feature maps.\n",
    "    \n",
    "**Example:** Visualizing samples of training data to ensure they are loaded correctly."
   ]
  },
  {
   "cell_type": "code",
   "execution_count": 29,
   "id": "c7ba5ec5",
   "metadata": {},
   "outputs": [],
   "source": [
    "# Example histogram logging\n",
    "with tf.summary.create_file_writer(log_dir).as_default():\n",
    "    for epoch in range(25):\n",
    "        weights = model.layers[1].get_weights()[0]\n",
    "        tf.summary.histogram('weights', weights, step=epoch)"
   ]
  },
  {
   "cell_type": "code",
   "execution_count": 30,
   "id": "33a30ca6",
   "metadata": {},
   "outputs": [
    {
     "data": {
      "text/plain": [
       "Reusing TensorBoard on port 6006 (pid 16252), started 0:42:56 ago. (Use '!kill 16252' to kill it.)"
      ]
     },
     "metadata": {},
     "output_type": "display_data"
    },
    {
     "data": {
      "text/html": [
       "\n",
       "      <iframe id=\"tensorboard-frame-18942253d260be43\" width=\"100%\" height=\"800\" frameborder=\"0\">\n",
       "      </iframe>\n",
       "      <script>\n",
       "        (function() {\n",
       "          const frame = document.getElementById(\"tensorboard-frame-18942253d260be43\");\n",
       "          const url = new URL(\"/\", window.location);\n",
       "          const port = 6006;\n",
       "          if (port) {\n",
       "            url.port = port;\n",
       "          }\n",
       "          frame.src = url;\n",
       "        })();\n",
       "      </script>\n",
       "    "
      ],
      "text/plain": [
       "<IPython.core.display.HTML object>"
      ]
     },
     "metadata": {},
     "output_type": "display_data"
    }
   ],
   "source": [
    "%tensorboard --logdir logs/fit"
   ]
  },
  {
   "cell_type": "markdown",
   "id": "13e475c6",
   "metadata": {},
   "source": [
    "#### e) Distribution Dashboard"
   ]
  },
  {
   "cell_type": "markdown",
   "id": "41e63dc3",
   "metadata": {},
   "source": [
    "**Use Case:** Analyzing Distributions Over Time\n",
    "\n",
    "**Purpose:** Track how distributions of weights and biases change across epochs.\n",
    "    \n",
    "**Example:** Observing the evolution of weights during training to ensure they converge properly."
   ]
  },
  {
   "cell_type": "code",
   "execution_count": 31,
   "id": "b2612ec6",
   "metadata": {},
   "outputs": [
    {
     "data": {
      "text/plain": [
       "Reusing TensorBoard on port 6006 (pid 16252), started 0:45:38 ago. (Use '!kill 16252' to kill it.)"
      ]
     },
     "metadata": {},
     "output_type": "display_data"
    },
    {
     "data": {
      "text/html": [
       "\n",
       "      <iframe id=\"tensorboard-frame-fab80ac05e523da4\" width=\"100%\" height=\"800\" frameborder=\"0\">\n",
       "      </iframe>\n",
       "      <script>\n",
       "        (function() {\n",
       "          const frame = document.getElementById(\"tensorboard-frame-fab80ac05e523da4\");\n",
       "          const url = new URL(\"/\", window.location);\n",
       "          const port = 6006;\n",
       "          if (port) {\n",
       "            url.port = port;\n",
       "          }\n",
       "          frame.src = url;\n",
       "        })();\n",
       "      </script>\n",
       "    "
      ],
      "text/plain": [
       "<IPython.core.display.HTML object>"
      ]
     },
     "metadata": {},
     "output_type": "display_data"
    }
   ],
   "source": [
    "%tensorboard --logdir logs/fit"
   ]
  },
  {
   "cell_type": "markdown",
   "id": "bd081770",
   "metadata": {},
   "source": [
    "#### f) Projector Dashboard"
   ]
  },
  {
   "cell_type": "markdown",
   "id": "14cbc39f",
   "metadata": {},
   "source": [
    "**Use Case:** Visualizing High-Dimensional Data\n",
    "\n",
    "**Purpose:** Explore embeddings or high-dimensional data in a lower-dimensional space.\n",
    "    \n",
    "**Example:** Visualizing word embeddings or learned representations of data."
   ]
  },
  {
   "cell_type": "code",
   "execution_count": null,
   "id": "dd7cbb6d",
   "metadata": {},
   "outputs": [],
   "source": [
    "#"
   ]
  }
 ],
 "metadata": {
  "kernelspec": {
   "display_name": "Python 3 (ipykernel)",
   "language": "python",
   "name": "python3"
  },
  "language_info": {
   "codemirror_mode": {
    "name": "ipython",
    "version": 3
   },
   "file_extension": ".py",
   "mimetype": "text/x-python",
   "name": "python",
   "nbconvert_exporter": "python",
   "pygments_lexer": "ipython3",
   "version": "3.10.9"
  }
 },
 "nbformat": 4,
 "nbformat_minor": 5
}
