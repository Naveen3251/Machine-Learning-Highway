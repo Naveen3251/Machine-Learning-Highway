{
 "cells": [
  {
   "cell_type": "code",
   "execution_count": 1,
   "id": "5f798c4b",
   "metadata": {},
   "outputs": [],
   "source": [
    "import tensorflow as tf"
   ]
  },
  {
   "cell_type": "markdown",
   "id": "b4cf6bbf",
   "metadata": {},
   "source": [
    "In TensorFlow, the SeparableConv1D, SeparableConv2D, and SeparableConv3D layers are variants of convolutional layers that **aim to reduce the number of parameters in the model while potentially improving performance**, especially in tasks involving images or sequences. \n",
    "\n",
    "**These layers achieve this by separating the convolution operation into two stages: depthwise convolution and pointwise convolution.**"
   ]
  },
  {
   "cell_type": "markdown",
   "id": "f3502402",
   "metadata": {},
   "source": [
    "## 1] SeparableConv1D"
   ]
  },
  {
   "cell_type": "markdown",
   "id": "b1035293",
   "metadata": {},
   "source": [
    "**Usage:** Applies a 1D separable convolution operation over a sequence.\n",
    "    \n",
    "**Common Use Cases:** Time-series analysis, sequential data processing.\n",
    "    \n",
    "**Input Shape:** (batch_size, length, channels)\n",
    "    \n",
    "**Output Shape:** (batch_size, new_length, filters)\n",
    "new_length depends on the stride and padding used.\n",
    "\n",
    "**Example:** Text classification with 1D convolutions over sequences."
   ]
  },
  {
   "cell_type": "code",
   "execution_count": 7,
   "id": "77ff0f26",
   "metadata": {},
   "outputs": [
    {
     "name": "stdout",
     "output_type": "stream",
     "text": [
      "Input shape: (4, 10, 3)\n",
      "Output shape: (4, 8, 10)\n"
     ]
    }
   ],
   "source": [
    "# Generate dummy data (images)\n",
    "batch_size = 4\n",
    "length, channels = 10,3\n",
    "image_data = tf.random.normal((batch_size,length, channels))\n",
    "\n",
    "# Define SeparableConv2D layer\n",
    "separable_conv1d_layer = tf.keras.layers.SeparableConv1D(filters=10, kernel_size=3, activation='relu')\n",
    "\n",
    "# Apply the layer\n",
    "output_data = separable_conv1d_layer(image_data)\n",
    "\n",
    "# Print shapes\n",
    "print(\"Input shape:\", image_data.shape)\n",
    "print(\"Output shape:\", output_data.shape)"
   ]
  },
  {
   "cell_type": "markdown",
   "id": "11f2c118",
   "metadata": {},
   "source": [
    "## 2] SeparableConv2D"
   ]
  },
  {
   "cell_type": "markdown",
   "id": "6ea0b0a1",
   "metadata": {},
   "source": [
    "**Usage:** Applies a 2D separable convolution operation over images.\n",
    "    \n",
    "**Common Use Cases:** Image classification, object detection, image segmentation.\n",
    "    \n",
    "**Input Shape:** (batch_size, height, width, channels)\n",
    "    \n",
    "**Output Shape:** (batch_size, new_height, new_width, filters)\n",
    "new_height and new_width depend on the stride and padding used.\n",
    "\n",
    "**Example:** CNN-based image classification or segmentation models."
   ]
  },
  {
   "cell_type": "code",
   "execution_count": 5,
   "id": "c6550819",
   "metadata": {},
   "outputs": [
    {
     "name": "stdout",
     "output_type": "stream",
     "text": [
      "Input shape: (4, 32, 32, 3)\n",
      "Output shape: (4, 30, 30, 10)\n"
     ]
    }
   ],
   "source": [
    "# Generate dummy data (images)\n",
    "batch_size = 4\n",
    "height, width, channels = 32, 32, 3\n",
    "image_data = tf.random.normal((batch_size, height, width, channels))\n",
    "\n",
    "# Define SeparableConv2D layer\n",
    "separable_conv2d_layer = tf.keras.layers.SeparableConv2D(filters=10, kernel_size=(3, 3), activation='relu')\n",
    "\n",
    "# Apply the layer\n",
    "output_data = separable_conv2d_layer(image_data)\n",
    "\n",
    "# Print shapes\n",
    "print(\"Input shape:\", image_data.shape)\n",
    "print(\"Output shape:\", output_data.shape)"
   ]
  },
  {
   "cell_type": "markdown",
   "id": "e3478a82",
   "metadata": {},
   "source": [
    "## At which layer before and after it will use?"
   ]
  },
  {
   "cell_type": "markdown",
   "id": "cc64a894",
   "metadata": {},
   "source": [
    "- **SeparableConv1D**:\n",
    "  - **After**: Often used after initial Conv1D layers for feature extraction.\n",
    "  - **Before**: Typically used before pooling layers (`MaxPooling1D`, `AveragePooling1D`).\n",
    "\n",
    "- **SeparableConv2D**:\n",
    "  - **After**: Used after initial Conv2D layers to extract features.\n",
    "  - **Before**: Generally placed before pooling layers (`MaxPooling2D`, `AveragePooling2D`)..\n",
    "\n",
    "Separable convolutional layers are designed to **reduce model parameters** by applying depth-wise separable convolutions, which are **computationally efficient compared to traditional convolutions.**\n",
    "\n",
    "**They are effective in scenarios where reducing model complexity and maintaining accuracy are priorities.**"
   ]
  },
  {
   "cell_type": "code",
   "execution_count": null,
   "id": "bf23e774",
   "metadata": {},
   "outputs": [],
   "source": []
  }
 ],
 "metadata": {
  "kernelspec": {
   "display_name": "Python 3 (ipykernel)",
   "language": "python",
   "name": "python3"
  },
  "language_info": {
   "codemirror_mode": {
    "name": "ipython",
    "version": 3
   },
   "file_extension": ".py",
   "mimetype": "text/x-python",
   "name": "python",
   "nbconvert_exporter": "python",
   "pygments_lexer": "ipython3",
   "version": "3.10.9"
  }
 },
 "nbformat": 4,
 "nbformat_minor": 5
}
