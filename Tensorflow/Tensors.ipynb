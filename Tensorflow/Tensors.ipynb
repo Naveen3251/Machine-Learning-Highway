{
 "cells": [
  {
   "cell_type": "code",
   "execution_count": 1,
   "id": "ae8aa36b",
   "metadata": {},
   "outputs": [],
   "source": [
    "import tensorflow as tf"
   ]
  },
  {
   "cell_type": "markdown",
   "id": "60107a37",
   "metadata": {},
   "source": [
    "# Tensors"
   ]
  },
  {
   "cell_type": "raw",
   "id": "14b8544b",
   "metadata": {},
   "source": [
    "\n",
    "A tensor, in the context of TensorFlow, is a multi-dimensional array. It is a fundamental data structure used to represent data in TensorFlow computations. Tensors can have different ranks, which correspond to the number of dimensions they have. \n",
    "\n",
    "For example:\n",
    "A rank-0 tensor is a scalar (a single number).\n",
    "A rank-1 tensor is a vector (an array of numbers).\n",
    "A rank-2 tensor is a matrix (a 2-dimensional array).\n",
    "A rank-n tensor has n dimensions."
   ]
  },
  {
   "cell_type": "markdown",
   "id": "b4aa0157",
   "metadata": {},
   "source": [
    "# Tensor- Constant and its Operations"
   ]
  },
  {
   "cell_type": "code",
   "execution_count": 3,
   "id": "7c537aa4",
   "metadata": {},
   "outputs": [],
   "source": [
    "a=tf.constant([[1,2],[3,4]])\n",
    "b=tf.constant([[2,3],[4,5]])"
   ]
  },
  {
   "cell_type": "code",
   "execution_count": 4,
   "id": "10f7d4b4",
   "metadata": {},
   "outputs": [
    {
     "data": {
      "text/plain": [
       "<tf.Tensor: shape=(2, 2), dtype=int32, numpy=\n",
       "array([[1, 2],\n",
       "       [3, 4]])>"
      ]
     },
     "execution_count": 4,
     "metadata": {},
     "output_type": "execute_result"
    }
   ],
   "source": [
    "a"
   ]
  },
  {
   "cell_type": "code",
   "execution_count": 5,
   "id": "2e6c407b",
   "metadata": {},
   "outputs": [
    {
     "data": {
      "text/plain": [
       "array([[2, 3],\n",
       "       [4, 5]])"
      ]
     },
     "execution_count": 5,
     "metadata": {},
     "output_type": "execute_result"
    }
   ],
   "source": [
    "b.numpy()"
   ]
  },
  {
   "cell_type": "markdown",
   "id": "8606a710",
   "metadata": {},
   "source": [
    "## Element-wise Operations"
   ]
  },
  {
   "cell_type": "markdown",
   "id": "36128566",
   "metadata": {},
   "source": [
    "### add(), subtract(), multiply(), divide() operations"
   ]
  },
  {
   "cell_type": "code",
   "execution_count": 6,
   "id": "8a4a7da6",
   "metadata": {},
   "outputs": [
    {
     "data": {
      "text/plain": [
       "<tf.Tensor: shape=(2, 2), dtype=int32, numpy=\n",
       "array([[3, 5],\n",
       "       [7, 9]])>"
      ]
     },
     "execution_count": 6,
     "metadata": {},
     "output_type": "execute_result"
    }
   ],
   "source": [
    "add=tf.add(a,b)\n",
    "add"
   ]
  },
  {
   "cell_type": "code",
   "execution_count": 7,
   "id": "87d4f24a",
   "metadata": {},
   "outputs": [
    {
     "data": {
      "text/plain": [
       "<tf.Tensor: shape=(2, 2), dtype=int32, numpy=\n",
       "array([[-1, -1],\n",
       "       [-1, -1]])>"
      ]
     },
     "execution_count": 7,
     "metadata": {},
     "output_type": "execute_result"
    }
   ],
   "source": [
    "sub=tf.subtract(a,b)\n",
    "sub"
   ]
  },
  {
   "cell_type": "code",
   "execution_count": 11,
   "id": "2711ce18",
   "metadata": {},
   "outputs": [
    {
     "data": {
      "text/plain": [
       "<tf.Tensor: shape=(2, 2), dtype=int32, numpy=\n",
       "array([[ 2,  6],\n",
       "       [12, 20]])>"
      ]
     },
     "execution_count": 11,
     "metadata": {},
     "output_type": "execute_result"
    }
   ],
   "source": [
    "mul=tf.multiply(a,b)\n",
    "mul"
   ]
  },
  {
   "cell_type": "code",
   "execution_count": 13,
   "id": "04c9e6c0",
   "metadata": {},
   "outputs": [
    {
     "data": {
      "text/plain": [
       "<tf.Tensor: shape=(2, 2), dtype=float64, numpy=\n",
       "array([[0.5       , 0.66666667],\n",
       "       [0.75      , 0.8       ]])>"
      ]
     },
     "execution_count": 13,
     "metadata": {},
     "output_type": "execute_result"
    }
   ],
   "source": [
    "div=tf.divide(a,b)\n",
    "div"
   ]
  },
  {
   "cell_type": "markdown",
   "id": "9ab0797c",
   "metadata": {},
   "source": [
    "## Reduction Operations"
   ]
  },
  {
   "cell_type": "markdown",
   "id": "3e395743",
   "metadata": {},
   "source": [
    "### reduce_x()  x--> sum(),mean(),max(),min()"
   ]
  },
  {
   "cell_type": "code",
   "execution_count": 15,
   "id": "17837db2",
   "metadata": {},
   "outputs": [
    {
     "data": {
      "text/plain": [
       "10"
      ]
     },
     "execution_count": 15,
     "metadata": {},
     "output_type": "execute_result"
    }
   ],
   "source": [
    "summ=tf.reduce_sum(a)\n",
    "summ.numpy()"
   ]
  },
  {
   "cell_type": "code",
   "execution_count": 16,
   "id": "c7d2b7e0",
   "metadata": {},
   "outputs": [
    {
     "data": {
      "text/plain": [
       "3"
      ]
     },
     "execution_count": 16,
     "metadata": {},
     "output_type": "execute_result"
    }
   ],
   "source": [
    "mean=tf.reduce_mean(b)\n",
    "mean.numpy()"
   ]
  },
  {
   "cell_type": "code",
   "execution_count": 18,
   "id": "4446b3a9",
   "metadata": {},
   "outputs": [
    {
     "data": {
      "text/plain": [
       "4"
      ]
     },
     "execution_count": 18,
     "metadata": {},
     "output_type": "execute_result"
    }
   ],
   "source": [
    "maxx=tf.reduce_max(a)\n",
    "maxx.numpy()"
   ]
  },
  {
   "cell_type": "code",
   "execution_count": 20,
   "id": "9d50e995",
   "metadata": {},
   "outputs": [
    {
     "data": {
      "text/plain": [
       "2"
      ]
     },
     "execution_count": 20,
     "metadata": {},
     "output_type": "execute_result"
    }
   ],
   "source": [
    "minn=tf.reduce_min(b)\n",
    "minn.numpy()"
   ]
  },
  {
   "cell_type": "markdown",
   "id": "89baa9e2",
   "metadata": {},
   "source": [
    "## Matrix Operaions"
   ]
  },
  {
   "cell_type": "markdown",
   "id": "3e6281a7",
   "metadata": {},
   "source": [
    "### Matrix Multiplication"
   ]
  },
  {
   "cell_type": "code",
   "execution_count": 21,
   "id": "de96e14a",
   "metadata": {},
   "outputs": [],
   "source": [
    "matrix_a = tf.constant([[1, 2], [3, 4]])\n",
    "matrix_b = tf.constant([[5, 6], [7, 8]])"
   ]
  },
  {
   "cell_type": "code",
   "execution_count": 22,
   "id": "ae3056a1",
   "metadata": {},
   "outputs": [],
   "source": [
    "mat=tf.matmul(matrix_a,matrix_b)"
   ]
  },
  {
   "cell_type": "code",
   "execution_count": 24,
   "id": "db4da0bb",
   "metadata": {},
   "outputs": [
    {
     "data": {
      "text/plain": [
       "array([[19, 22],\n",
       "       [43, 50]])"
      ]
     },
     "execution_count": 24,
     "metadata": {},
     "output_type": "execute_result"
    }
   ],
   "source": [
    "mat.numpy()"
   ]
  },
  {
   "cell_type": "markdown",
   "id": "f0f26698",
   "metadata": {},
   "source": [
    "### Transpose"
   ]
  },
  {
   "cell_type": "code",
   "execution_count": 25,
   "id": "980036dd",
   "metadata": {},
   "outputs": [
    {
     "data": {
      "text/plain": [
       "<tf.Tensor: shape=(2, 2), dtype=int32, numpy=\n",
       "array([[1, 3],\n",
       "       [2, 4]])>"
      ]
     },
     "execution_count": 25,
     "metadata": {},
     "output_type": "execute_result"
    }
   ],
   "source": [
    "transposed_mat=tf.transpose(matrix_a)\n",
    "transposed_mat"
   ]
  },
  {
   "cell_type": "markdown",
   "id": "9476fee4",
   "metadata": {},
   "source": [
    "## Indexing and Slicing"
   ]
  },
  {
   "cell_type": "markdown",
   "id": "55ec92eb",
   "metadata": {},
   "source": [
    "### Indexing"
   ]
  },
  {
   "cell_type": "code",
   "execution_count": 27,
   "id": "7579f50a",
   "metadata": {},
   "outputs": [
    {
     "data": {
      "text/plain": [
       "2"
      ]
     },
     "execution_count": 27,
     "metadata": {},
     "output_type": "execute_result"
    }
   ],
   "source": [
    "matrix_a[0,1].numpy()"
   ]
  },
  {
   "cell_type": "markdown",
   "id": "574c693b",
   "metadata": {},
   "source": [
    "### Slicing"
   ]
  },
  {
   "cell_type": "raw",
   "id": "e8f7300a",
   "metadata": {},
   "source": [
    "syntax : mat[r_start:r_end,col_start:col_end]"
   ]
  },
  {
   "cell_type": "code",
   "execution_count": 31,
   "id": "fe45d72a",
   "metadata": {},
   "outputs": [
    {
     "data": {
      "text/plain": [
       "<tf.Tensor: shape=(2, 1), dtype=int32, numpy=\n",
       "array([[1],\n",
       "       [3]])>"
      ]
     },
     "execution_count": 31,
     "metadata": {},
     "output_type": "execute_result"
    }
   ],
   "source": [
    "matrix_a[0:2,0:1]"
   ]
  },
  {
   "cell_type": "code",
   "execution_count": 32,
   "id": "df0e7292",
   "metadata": {},
   "outputs": [
    {
     "data": {
      "text/plain": [
       "<tf.Tensor: shape=(2, 2), dtype=int32, numpy=\n",
       "array([[1, 2],\n",
       "       [3, 4]])>"
      ]
     },
     "execution_count": 32,
     "metadata": {},
     "output_type": "execute_result"
    }
   ],
   "source": [
    "matrix_a[:,:]"
   ]
  },
  {
   "cell_type": "markdown",
   "id": "a292d329",
   "metadata": {},
   "source": [
    "## To get Shape of tensor - shape()"
   ]
  },
  {
   "cell_type": "code",
   "execution_count": 34,
   "id": "f9858b9d",
   "metadata": {},
   "outputs": [],
   "source": [
    "a=tf.constant([[2,3,4],[1,2,3]])"
   ]
  },
  {
   "cell_type": "code",
   "execution_count": 36,
   "id": "dddae2d2",
   "metadata": {},
   "outputs": [],
   "source": [
    "r_c=tf.shape(a)"
   ]
  },
  {
   "cell_type": "code",
   "execution_count": 37,
   "id": "5b222b95",
   "metadata": {},
   "outputs": [
    {
     "data": {
      "text/plain": [
       "array([2, 3])"
      ]
     },
     "execution_count": 37,
     "metadata": {},
     "output_type": "execute_result"
    }
   ],
   "source": [
    "r_c.numpy()"
   ]
  },
  {
   "cell_type": "markdown",
   "id": "acaedd8e",
   "metadata": {},
   "source": [
    "## To get dim of tensor - rank()"
   ]
  },
  {
   "cell_type": "code",
   "execution_count": 38,
   "id": "1d618f0b",
   "metadata": {},
   "outputs": [],
   "source": [
    "a=tf.constant([[2,3,4],[1,2,3]])"
   ]
  },
  {
   "cell_type": "code",
   "execution_count": 39,
   "id": "8e46bd80",
   "metadata": {},
   "outputs": [],
   "source": [
    "dim=tf.rank(a)"
   ]
  },
  {
   "cell_type": "code",
   "execution_count": 41,
   "id": "890578c9",
   "metadata": {},
   "outputs": [
    {
     "data": {
      "text/plain": [
       "2"
      ]
     },
     "execution_count": 41,
     "metadata": {},
     "output_type": "execute_result"
    }
   ],
   "source": [
    "dim.numpy()"
   ]
  },
  {
   "cell_type": "markdown",
   "id": "7df9f9ae",
   "metadata": {},
   "source": [
    "## To get size of tensor - size()"
   ]
  },
  {
   "cell_type": "code",
   "execution_count": 43,
   "id": "45d3e279",
   "metadata": {},
   "outputs": [],
   "source": [
    "a=tf.constant([[2,3],[1,2]])"
   ]
  },
  {
   "cell_type": "code",
   "execution_count": 44,
   "id": "03f69e1b",
   "metadata": {},
   "outputs": [],
   "source": [
    "num_of_elements=tf.size(a)"
   ]
  },
  {
   "cell_type": "code",
   "execution_count": 45,
   "id": "e5281ca2",
   "metadata": {},
   "outputs": [
    {
     "data": {
      "text/plain": [
       "4"
      ]
     },
     "execution_count": 45,
     "metadata": {},
     "output_type": "execute_result"
    }
   ],
   "source": [
    "num_of_elements.numpy()"
   ]
  },
  {
   "cell_type": "markdown",
   "id": "11bf7034",
   "metadata": {},
   "source": [
    "## Reshaping - reshape(tensor,dim)"
   ]
  },
  {
   "cell_type": "markdown",
   "id": "a9805ff2",
   "metadata": {},
   "source": [
    "### Reshaping any dimenison to 1"
   ]
  },
  {
   "cell_type": "code",
   "execution_count": 46,
   "id": "b8d405e3",
   "metadata": {},
   "outputs": [],
   "source": [
    "a = tf.constant([[1, 2, 3],\n",
    "                 [4, 5, 6]])"
   ]
  },
  {
   "cell_type": "code",
   "execution_count": 47,
   "id": "491c8a82",
   "metadata": {},
   "outputs": [
    {
     "data": {
      "text/plain": [
       "array([[1, 2, 3],\n",
       "       [4, 5, 6]])"
      ]
     },
     "execution_count": 47,
     "metadata": {},
     "output_type": "execute_result"
    }
   ],
   "source": [
    "a.numpy()"
   ]
  },
  {
   "cell_type": "code",
   "execution_count": 50,
   "id": "8c3f0c39",
   "metadata": {},
   "outputs": [
    {
     "data": {
      "text/plain": [
       "array([1, 2, 3, 4, 5, 6])"
      ]
     },
     "execution_count": 50,
     "metadata": {},
     "output_type": "execute_result"
    }
   ],
   "source": [
    "a_1d=tf.reshape(a,[-1])\n",
    "a_1d.numpy()"
   ]
  },
  {
   "cell_type": "code",
   "execution_count": 55,
   "id": "bac1abba",
   "metadata": {},
   "outputs": [
    {
     "data": {
      "text/plain": [
       "array([[[1, 2, 3]],\n",
       "\n",
       "       [[4, 5, 6]]])"
      ]
     },
     "execution_count": 55,
     "metadata": {},
     "output_type": "execute_result"
    }
   ],
   "source": [
    "# a to have 3 dimensions: 2 rows, 1 column, and 3 elements per row. \n",
    "tf.reshape(a,[2,1,3]).numpy()"
   ]
  },
  {
   "cell_type": "markdown",
   "id": "637f0fdc",
   "metadata": {},
   "source": [
    "## Expanding Dimensions - tf.expand_dims(tensor, axis)"
   ]
  },
  {
   "cell_type": "raw",
   "id": "84c52ffb",
   "metadata": {},
   "source": [
    "Adds a dimension to the tensor at the specified axis"
   ]
  },
  {
   "cell_type": "code",
   "execution_count": 56,
   "id": "703f69bc",
   "metadata": {},
   "outputs": [],
   "source": [
    "a = tf.constant([[1, 2, 3],\n",
    "                 [4, 5, 6]])"
   ]
  },
  {
   "cell_type": "code",
   "execution_count": 57,
   "id": "01b73a26",
   "metadata": {},
   "outputs": [
    {
     "data": {
      "text/plain": [
       "array([[1, 2, 3],\n",
       "       [4, 5, 6]])"
      ]
     },
     "execution_count": 57,
     "metadata": {},
     "output_type": "execute_result"
    }
   ],
   "source": [
    "a.numpy()"
   ]
  },
  {
   "cell_type": "code",
   "execution_count": 58,
   "id": "5ef9e84f",
   "metadata": {},
   "outputs": [
    {
     "data": {
      "text/plain": [
       "<tf.Tensor: shape=(1, 2, 3), dtype=int32, numpy=\n",
       "array([[[1, 2, 3],\n",
       "        [4, 5, 6]]])>"
      ]
     },
     "execution_count": 58,
     "metadata": {},
     "output_type": "execute_result"
    }
   ],
   "source": [
    "tf.expand_dims(a,axis=0)"
   ]
  },
  {
   "cell_type": "code",
   "execution_count": 59,
   "id": "d6508791",
   "metadata": {},
   "outputs": [
    {
     "data": {
      "text/plain": [
       "<tf.Tensor: shape=(2, 1, 3), dtype=int32, numpy=\n",
       "array([[[1, 2, 3]],\n",
       "\n",
       "       [[4, 5, 6]]])>"
      ]
     },
     "execution_count": 59,
     "metadata": {},
     "output_type": "execute_result"
    }
   ],
   "source": [
    "tf.expand_dims(a,axis=1)"
   ]
  },
  {
   "cell_type": "code",
   "execution_count": 60,
   "id": "94bbc128",
   "metadata": {},
   "outputs": [
    {
     "data": {
      "text/plain": [
       "<tf.Tensor: shape=(2, 3, 1), dtype=int32, numpy=\n",
       "array([[[1],\n",
       "        [2],\n",
       "        [3]],\n",
       "\n",
       "       [[4],\n",
       "        [5],\n",
       "        [6]]])>"
      ]
     },
     "execution_count": 60,
     "metadata": {},
     "output_type": "execute_result"
    }
   ],
   "source": [
    "tf.expand_dims(a,axis=2)"
   ]
  },
  {
   "cell_type": "markdown",
   "id": "b3303759",
   "metadata": {},
   "source": [
    "## Squeezing Dimensions - tf.squeeze(tensor, axis)"
   ]
  },
  {
   "cell_type": "raw",
   "id": "9991236e",
   "metadata": {},
   "source": [
    "Removes dimensions of size 1 from the tensor.\n",
    "eg:\n",
    "(1,2,3)-->(2,3) at axis=0"
   ]
  },
  {
   "cell_type": "code",
   "execution_count": 62,
   "id": "42df1c15",
   "metadata": {},
   "outputs": [],
   "source": [
    "a = tf.constant([[1, 2, 3],\n",
    "                 [4, 5, 6]])"
   ]
  },
  {
   "cell_type": "code",
   "execution_count": 63,
   "id": "a6e844bc",
   "metadata": {},
   "outputs": [
    {
     "data": {
      "text/plain": [
       "array([[1, 2, 3],\n",
       "       [4, 5, 6]])"
      ]
     },
     "execution_count": 63,
     "metadata": {},
     "output_type": "execute_result"
    }
   ],
   "source": [
    "a.numpy()"
   ]
  },
  {
   "cell_type": "code",
   "execution_count": 68,
   "id": "52304fdd",
   "metadata": {},
   "outputs": [],
   "source": [
    "n=tf.expand_dims(a,axis=0)"
   ]
  },
  {
   "cell_type": "code",
   "execution_count": 70,
   "id": "492c2148",
   "metadata": {},
   "outputs": [
    {
     "data": {
      "text/plain": [
       "<tf.Tensor: shape=(1, 2, 3), dtype=int32, numpy=\n",
       "array([[[1, 2, 3],\n",
       "        [4, 5, 6]]])>"
      ]
     },
     "execution_count": 70,
     "metadata": {},
     "output_type": "execute_result"
    }
   ],
   "source": [
    "n"
   ]
  },
  {
   "cell_type": "code",
   "execution_count": 69,
   "id": "94444a99",
   "metadata": {},
   "outputs": [
    {
     "data": {
      "text/plain": [
       "<tf.Tensor: shape=(2, 3), dtype=int32, numpy=\n",
       "array([[1, 2, 3],\n",
       "       [4, 5, 6]])>"
      ]
     },
     "execution_count": 69,
     "metadata": {},
     "output_type": "execute_result"
    }
   ],
   "source": [
    "tf.squeeze(n,axis=0)"
   ]
  },
  {
   "cell_type": "code",
   "execution_count": 74,
   "id": "9bd691a1",
   "metadata": {},
   "outputs": [],
   "source": [
    "new_a=tf.reshape(a,[2,1,3])"
   ]
  },
  {
   "cell_type": "code",
   "execution_count": 75,
   "id": "92552f7f",
   "metadata": {},
   "outputs": [
    {
     "data": {
      "text/plain": [
       "<tf.Tensor: shape=(2, 1, 3), dtype=int32, numpy=\n",
       "array([[[1, 2, 3]],\n",
       "\n",
       "       [[4, 5, 6]]])>"
      ]
     },
     "execution_count": 75,
     "metadata": {},
     "output_type": "execute_result"
    }
   ],
   "source": [
    "new_a"
   ]
  },
  {
   "cell_type": "code",
   "execution_count": 76,
   "id": "6f3ed09c",
   "metadata": {},
   "outputs": [
    {
     "data": {
      "text/plain": [
       "<tf.Tensor: shape=(2, 3), dtype=int32, numpy=\n",
       "array([[1, 2, 3],\n",
       "       [4, 5, 6]])>"
      ]
     },
     "execution_count": 76,
     "metadata": {},
     "output_type": "execute_result"
    }
   ],
   "source": [
    "tf.squeeze(new_a,axis=1)"
   ]
  },
  {
   "cell_type": "markdown",
   "id": "b79663d9",
   "metadata": {},
   "source": [
    "## Resizing"
   ]
  },
  {
   "cell_type": "raw",
   "id": "b4dc4739",
   "metadata": {},
   "source": [
    "tf.image.resize(tensor, size): Resizes images to the specified size using bilinear interpolation."
   ]
  },
  {
   "cell_type": "raw",
   "id": "e721fdfe",
   "metadata": {},
   "source": [
    "resized_image = tf.image.resize(image, [new_height, new_width])"
   ]
  },
  {
   "cell_type": "code",
   "execution_count": null,
   "id": "e7d0abfc",
   "metadata": {},
   "outputs": [],
   "source": []
  }
 ],
 "metadata": {
  "kernelspec": {
   "display_name": "Python 3 (ipykernel)",
   "language": "python",
   "name": "python3"
  },
  "language_info": {
   "codemirror_mode": {
    "name": "ipython",
    "version": 3
   },
   "file_extension": ".py",
   "mimetype": "text/x-python",
   "name": "python",
   "nbconvert_exporter": "python",
   "pygments_lexer": "ipython3",
   "version": "3.10.9"
  }
 },
 "nbformat": 4,
 "nbformat_minor": 5
}
