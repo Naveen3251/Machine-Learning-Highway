{
 "cells": [
  {
   "cell_type": "code",
   "execution_count": 1,
   "id": "2f766686",
   "metadata": {},
   "outputs": [],
   "source": [
    "import tensorflow as tf"
   ]
  },
  {
   "cell_type": "markdown",
   "id": "55dd41fe",
   "metadata": {},
   "source": [
    "## 1] Tokenizer"
   ]
  },
  {
   "cell_type": "markdown",
   "id": "e92cf148",
   "metadata": {},
   "source": [
    "**Usage:** Converts text to a sequence of tokens (words or subwords) and converts them into integers (token indices)."
   ]
  },
  {
   "cell_type": "markdown",
   "id": "636b311d",
   "metadata": {},
   "source": [
    "The Tokenizer assigns a unique integer to each unique token based on their frequency.\n",
    "\n",
    "The more frequent a word, the lower its index."
   ]
  },
  {
   "cell_type": "code",
   "execution_count": null,
   "id": "140a473b",
   "metadata": {},
   "outputs": [],
   "source": []
  },
  {
   "cell_type": "code",
   "execution_count": 3,
   "id": "8ca3d9b0",
   "metadata": {},
   "outputs": [],
   "source": [
    "texts = ['Hello, how are you?', 'I am doing great, thank you!']"
   ]
  },
  {
   "cell_type": "code",
   "execution_count": 2,
   "id": "548b6061",
   "metadata": {},
   "outputs": [],
   "source": [
    "tokenizer=tf.keras.preprocessing.text.Tokenizer()"
   ]
  },
  {
   "cell_type": "code",
   "execution_count": 4,
   "id": "85c8ca51",
   "metadata": {},
   "outputs": [],
   "source": [
    "tokenizer.fit_on_texts(texts)"
   ]
  },
  {
   "cell_type": "code",
   "execution_count": 6,
   "id": "5fa574cf",
   "metadata": {},
   "outputs": [],
   "source": [
    "seq=tokenizer.texts_to_sequences(texts)"
   ]
  },
  {
   "cell_type": "code",
   "execution_count": 7,
   "id": "8e478e14",
   "metadata": {},
   "outputs": [
    {
     "data": {
      "text/plain": [
       "[[2, 3, 4, 1], [5, 6, 7, 8, 9, 1]]"
      ]
     },
     "execution_count": 7,
     "metadata": {},
     "output_type": "execute_result"
    }
   ],
   "source": [
    "seq"
   ]
  },
  {
   "cell_type": "markdown",
   "id": "b812d5f1",
   "metadata": {},
   "source": [
    "## 2] HashTrick"
   ]
  },
  {
   "cell_type": "markdown",
   "id": "41d368f2",
   "metadata": {},
   "source": [
    "**Use hashing_trick when:**\n",
    "    \n",
    " You need a simple, **memory-efficient** way to convert text to integers.\n",
    "    \n",
    " You do not require an explicit vocabulary.\n",
    "    \n",
    " You are **dealing with very large text corpora**."
   ]
  },
  {
   "cell_type": "code",
   "execution_count": 11,
   "id": "b1ebdb65",
   "metadata": {},
   "outputs": [],
   "source": [
    "from tensorflow.keras.preprocessing.text import hashing_trick"
   ]
  },
  {
   "cell_type": "code",
   "execution_count": 12,
   "id": "9846a682",
   "metadata": {},
   "outputs": [],
   "source": [
    "texts = ['Hello, how are you?', 'I am doing great, thank you!']"
   ]
  },
  {
   "cell_type": "code",
   "execution_count": 13,
   "id": "9780809b",
   "metadata": {},
   "outputs": [],
   "source": [
    "num_words=10"
   ]
  },
  {
   "cell_type": "code",
   "execution_count": 14,
   "id": "d734972a",
   "metadata": {},
   "outputs": [],
   "source": [
    "hash_trick=[hashing_trick(word,num_words) for word in texts]"
   ]
  },
  {
   "cell_type": "code",
   "execution_count": 15,
   "id": "b60937c8",
   "metadata": {},
   "outputs": [
    {
     "data": {
      "text/plain": [
       "[[7, 7, 7, 9], [7, 1, 6, 7, 5, 9]]"
      ]
     },
     "execution_count": 15,
     "metadata": {},
     "output_type": "execute_result"
    }
   ],
   "source": [
    "hash_trick"
   ]
  },
  {
   "cell_type": "markdown",
   "id": "aa68b215",
   "metadata": {},
   "source": [
    "## 3] One hot"
   ]
  },
  {
   "cell_type": "markdown",
   "id": "b21441ae",
   "metadata": {},
   "source": [
    "The one_hot function from TensorFlow's Keras module converts text into a one-hot encoded representation. It does this by first hashing each word to a unique integer within the specified vocabulary size and then representing each word by its index."
   ]
  },
  {
   "cell_type": "markdown",
   "id": "775feb0c",
   "metadata": {},
   "source": [
    "**Using one-hot when:**\n",
    "\n",
    "You want a quick and easy way to convert text to hashed indices.\n",
    "\n",
    "You are prototyping and need to generate integer sequences quickly.\n",
    "\n",
    "You are working with models that can accept these integer sequences directly."
   ]
  },
  {
   "cell_type": "code",
   "execution_count": 19,
   "id": "435f65fb",
   "metadata": {},
   "outputs": [],
   "source": [
    "from tensorflow.keras.preprocessing.text import one_hot"
   ]
  },
  {
   "cell_type": "code",
   "execution_count": 16,
   "id": "a7a0735c",
   "metadata": {},
   "outputs": [],
   "source": [
    "texts = ['Hello, how are you?', 'I am doing great, thank you!']"
   ]
  },
  {
   "cell_type": "code",
   "execution_count": 17,
   "id": "0308cf9b",
   "metadata": {},
   "outputs": [],
   "source": [
    "# Decide on vocabulary size (for this example, we'll take the top 10 words)\n",
    "vocob_size=10"
   ]
  },
  {
   "cell_type": "code",
   "execution_count": 20,
   "id": "f348b23a",
   "metadata": {},
   "outputs": [],
   "source": [
    "encoded=[one_hot(text,vocob_size) for text in texts]"
   ]
  },
  {
   "cell_type": "code",
   "execution_count": 21,
   "id": "76fdf6ef",
   "metadata": {},
   "outputs": [
    {
     "data": {
      "text/plain": [
       "[[7, 7, 7, 9], [7, 1, 6, 7, 5, 9]]"
      ]
     },
     "execution_count": 21,
     "metadata": {},
     "output_type": "execute_result"
    }
   ],
   "source": [
    "encoded"
   ]
  },
  {
   "cell_type": "markdown",
   "id": "90c3e76f",
   "metadata": {},
   "source": [
    "## 4] Text to word sequence"
   ]
  },
  {
   "cell_type": "markdown",
   "id": "5ec2551c",
   "metadata": {},
   "source": [
    "**Usage:** Converts text into a list of words (or tokens)."
   ]
  },
  {
   "cell_type": "code",
   "execution_count": 22,
   "id": "1a7fbb07",
   "metadata": {},
   "outputs": [],
   "source": [
    "from tensorflow.keras.preprocessing.text import text_to_word_sequence"
   ]
  },
  {
   "cell_type": "code",
   "execution_count": 23,
   "id": "176c38fe",
   "metadata": {},
   "outputs": [],
   "source": [
    "text = 'Hello, how are you?'"
   ]
  },
  {
   "cell_type": "code",
   "execution_count": 24,
   "id": "7ab893f3",
   "metadata": {},
   "outputs": [
    {
     "data": {
      "text/plain": [
       "['hello', 'how', 'are', 'you']"
      ]
     },
     "execution_count": 24,
     "metadata": {},
     "output_type": "execute_result"
    }
   ],
   "source": [
    "words=text_to_word_sequence(text)\n",
    "words"
   ]
  },
  {
   "cell_type": "code",
   "execution_count": null,
   "id": "2e1aeb39",
   "metadata": {},
   "outputs": [],
   "source": []
  }
 ],
 "metadata": {
  "kernelspec": {
   "display_name": "Python 3 (ipykernel)",
   "language": "python",
   "name": "python3"
  },
  "language_info": {
   "codemirror_mode": {
    "name": "ipython",
    "version": 3
   },
   "file_extension": ".py",
   "mimetype": "text/x-python",
   "name": "python",
   "nbconvert_exporter": "python",
   "pygments_lexer": "ipython3",
   "version": "3.10.9"
  }
 },
 "nbformat": 4,
 "nbformat_minor": 5
}
