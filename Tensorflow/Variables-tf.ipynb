{
 "cells": [
  {
   "cell_type": "code",
   "execution_count": 1,
   "id": "c8121c3b",
   "metadata": {},
   "outputs": [],
   "source": [
    "import tensorflow as tf"
   ]
  },
  {
   "cell_type": "raw",
   "id": "649b554b",
   "metadata": {},
   "source": [
    "In TensorFlow, a variable represents a state or value that can be modified through operations. "
   ]
  },
  {
   "cell_type": "markdown",
   "id": "08d716c1",
   "metadata": {},
   "source": [
    "# Creating and Inspecting a Variable"
   ]
  },
  {
   "cell_type": "code",
   "execution_count": 2,
   "id": "c715e8ff",
   "metadata": {},
   "outputs": [],
   "source": [
    "v=tf.Variable([3,4])"
   ]
  },
  {
   "cell_type": "code",
   "execution_count": 3,
   "id": "43e170b0",
   "metadata": {},
   "outputs": [
    {
     "data": {
      "text/plain": [
       "<tf.Variable 'Variable:0' shape=(2,) dtype=int32, numpy=array([3, 4])>"
      ]
     },
     "execution_count": 3,
     "metadata": {},
     "output_type": "execute_result"
    }
   ],
   "source": [
    "v"
   ]
  },
  {
   "cell_type": "markdown",
   "id": "f8bae650",
   "metadata": {},
   "source": [
    "# Dimension, Size, Shape, and Data Type of a TensorFlow Variable"
   ]
  },
  {
   "cell_type": "code",
   "execution_count": 11,
   "id": "25d0d7e8",
   "metadata": {},
   "outputs": [
    {
     "name": "stdout",
     "output_type": "stream",
     "text": [
      "Dimension :  1\n",
      "Size :  2\n",
      "Shape :  (2,)\n",
      "Data type :  <dtype: 'int32'>\n"
     ]
    }
   ],
   "source": [
    "print('Dimension : ',tf.rank(v).numpy())\n",
    "print(\"Size : \",tf.size(v).numpy())\n",
    "print(\"Shape : \",v.shape)\n",
    "print(\"Data type : \",v.dtype)"
   ]
  },
  {
   "cell_type": "markdown",
   "id": "22ba6eca",
   "metadata": {},
   "source": [
    "# Modifying Variables"
   ]
  },
  {
   "cell_type": "code",
   "execution_count": 22,
   "id": "0ca2f43d",
   "metadata": {},
   "outputs": [
    {
     "data": {
      "text/plain": [
       "array([5, 4])"
      ]
     },
     "execution_count": 22,
     "metadata": {},
     "output_type": "execute_result"
    }
   ],
   "source": [
    "var=tf.Variable([5,4])\n",
    "var.numpy()"
   ]
  },
  {
   "cell_type": "markdown",
   "id": "e091f843",
   "metadata": {},
   "source": [
    "### assign()"
   ]
  },
  {
   "cell_type": "code",
   "execution_count": 23,
   "id": "7f8c4902",
   "metadata": {},
   "outputs": [
    {
     "data": {
      "text/plain": [
       "array([7, 4])"
      ]
     },
     "execution_count": 23,
     "metadata": {},
     "output_type": "execute_result"
    }
   ],
   "source": [
    "var[0].assign(7)\n",
    "var.numpy()"
   ]
  },
  {
   "cell_type": "markdown",
   "id": "b740713e",
   "metadata": {},
   "source": [
    "### assign_add()"
   ]
  },
  {
   "cell_type": "code",
   "execution_count": 24,
   "id": "73face8b",
   "metadata": {},
   "outputs": [
    {
     "data": {
      "text/plain": [
       "array([16,  4])"
      ]
     },
     "execution_count": 24,
     "metadata": {},
     "output_type": "execute_result"
    }
   ],
   "source": [
    "var.assign_add([9,0])\n",
    "var.numpy()"
   ]
  },
  {
   "cell_type": "markdown",
   "id": "64d698ed",
   "metadata": {},
   "source": [
    "### assign_sub()"
   ]
  },
  {
   "cell_type": "code",
   "execution_count": 25,
   "id": "e66c8b57",
   "metadata": {},
   "outputs": [
    {
     "data": {
      "text/plain": [
       "array([7, 3])"
      ]
     },
     "execution_count": 25,
     "metadata": {},
     "output_type": "execute_result"
    }
   ],
   "source": [
    "var.assign_sub([9,1])\n",
    "var.numpy()"
   ]
  },
  {
   "cell_type": "markdown",
   "id": "814ea06a",
   "metadata": {},
   "source": [
    "# Reshaping and Changing Data Types of Variables"
   ]
  },
  {
   "cell_type": "code",
   "execution_count": 26,
   "id": "21549897",
   "metadata": {},
   "outputs": [
    {
     "data": {
      "text/plain": [
       "array([1, 2, 3, 4, 5, 6])"
      ]
     },
     "execution_count": 26,
     "metadata": {},
     "output_type": "execute_result"
    }
   ],
   "source": [
    "a=tf.Variable([1,2,3,4,5,6])\n",
    "a.numpy()"
   ]
  },
  {
   "cell_type": "markdown",
   "id": "675e8549",
   "metadata": {},
   "source": [
    "### Reshaping"
   ]
  },
  {
   "cell_type": "code",
   "execution_count": 28,
   "id": "6b3eae51",
   "metadata": {},
   "outputs": [
    {
     "data": {
      "text/plain": [
       "array([[1, 2, 3],\n",
       "       [4, 5, 6]])"
      ]
     },
     "execution_count": 28,
     "metadata": {},
     "output_type": "execute_result"
    }
   ],
   "source": [
    "a_reshaped=tf.reshape(a,shape=(2,3))\n",
    "a_reshaped.numpy()"
   ]
  },
  {
   "cell_type": "markdown",
   "id": "cc638af4",
   "metadata": {},
   "source": [
    "### DataType-Specifying the data type"
   ]
  },
  {
   "cell_type": "code",
   "execution_count": 29,
   "id": "924e8330",
   "metadata": {},
   "outputs": [
    {
     "data": {
      "text/plain": [
       "<tf.Variable 'Variable:0' shape=(4,) dtype=float32, numpy=array([1., 2., 3., 4.], dtype=float32)>"
      ]
     },
     "execution_count": 29,
     "metadata": {},
     "output_type": "execute_result"
    }
   ],
   "source": [
    "a_float=tf.Variable([1,2,3,4],dtype=tf.float32)\n",
    "a_float"
   ]
  },
  {
   "cell_type": "markdown",
   "id": "5db817ed",
   "metadata": {},
   "source": [
    "# Arithmetic Operations"
   ]
  },
  {
   "cell_type": "code",
   "execution_count": 30,
   "id": "a6f00392",
   "metadata": {},
   "outputs": [
    {
     "name": "stdout",
     "output_type": "stream",
     "text": [
      "Addition: tf.Tensor([10  4], shape=(2,), dtype=int32)\n",
      "Subtraction: tf.Tensor([8 0], shape=(2,), dtype=int32)\n",
      "Multiplication: tf.Tensor([9 4], shape=(2,), dtype=int32)\n",
      "Division: tf.Tensor([9. 1.], shape=(2,), dtype=float64)\n"
     ]
    }
   ],
   "source": [
    "a=tf.Variable([9,2])\n",
    "b=tf.Variable([1,2])\n",
    "# Performing operations\n",
    "print(\"Addition:\", a + b)\n",
    "print(\"Subtraction:\", a - b)\n",
    "print(\"Multiplication:\", a * b)\n",
    "print(\"Division:\", a / b)"
   ]
  },
  {
   "cell_type": "markdown",
   "id": "e7fd8ddb",
   "metadata": {},
   "source": [
    "# Broadcasting"
   ]
  },
  {
   "cell_type": "raw",
   "id": "720416de",
   "metadata": {},
   "source": [
    "TensorFlow supports broadcasting, which allows for operations between tensors of different shapes."
   ]
  },
  {
   "cell_type": "code",
   "execution_count": 32,
   "id": "5f5bb9e8",
   "metadata": {},
   "outputs": [
    {
     "name": "stdout",
     "output_type": "stream",
     "text": [
      "Addition: tf.Tensor([11  4], shape=(2,), dtype=int32)\n",
      "Subtraction: tf.Tensor([7 0], shape=(2,), dtype=int32)\n",
      "Multiplication: tf.Tensor([18  4], shape=(2,), dtype=int32)\n",
      "Division: tf.Tensor([4.5 1. ], shape=(2,), dtype=float64)\n"
     ]
    }
   ],
   "source": [
    "a=tf.Variable([9,2])\n",
    "b=tf.Variable([2])\n",
    "# Performing operations\n",
    "print(\"Addition:\", a + b)\n",
    "print(\"Subtraction:\", a - b)\n",
    "print(\"Multiplication:\", a * b)\n",
    "print(\"Division:\", a / b)"
   ]
  },
  {
   "cell_type": "code",
   "execution_count": null,
   "id": "e60a7087",
   "metadata": {},
   "outputs": [],
   "source": []
  }
 ],
 "metadata": {
  "kernelspec": {
   "display_name": "Python 3 (ipykernel)",
   "language": "python",
   "name": "python3"
  },
  "language_info": {
   "codemirror_mode": {
    "name": "ipython",
    "version": 3
   },
   "file_extension": ".py",
   "mimetype": "text/x-python",
   "name": "python",
   "nbconvert_exporter": "python",
   "pygments_lexer": "ipython3",
   "version": "3.10.9"
  }
 },
 "nbformat": 4,
 "nbformat_minor": 5
}
